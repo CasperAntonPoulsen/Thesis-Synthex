{
 "cells": [
  {
   "cell_type": "code",
   "execution_count": 21,
   "metadata": {},
   "outputs": [],
   "source": [
    "import pandas as pd\n",
    "import numpy as np\n",
    "import os\n",
    "from tqdm import tqdm\n",
    "import pickle\n",
    "import matplotlib.pyplot as plt\n",
    "\n",
    "os.environ[\"KERAS_BACKEND\"] = \"jax\" \n",
    "\n",
    "\n",
    "import keras\n",
    "import shap"
   ]
  },
  {
   "cell_type": "code",
   "execution_count": 22,
   "metadata": {},
   "outputs": [],
   "source": [
    "# Function to change the image paths\n",
    "def change_paths(df, data_directory):\n",
    "    df = df.copy()\n",
    "\n",
    "\n",
    "    df[\"ImagePath\"] = df[\"ImagePath\"].apply(lambda x: x.replace(\"padchest-preprocessed\", data_directory))\n",
    "\n",
    "    return df\n"
   ]
  },
  {
   "cell_type": "code",
   "execution_count": 23,
   "metadata": {},
   "outputs": [],
   "source": [
    "mt_name = 'mt_gamma_0.8_epochs_50.keras'\n",
    "mt_aug_name = 'mt_aug_gamma_0.8_epochs_50.keras'\n",
    "\n",
    "\n",
    "pd_name = 'pd_epochs_50.keras'\n",
    "pd_aug_name = 'pd_aug_epochs_50.keras'\n",
    "\n",
    "\n",
    "td_name = 'td_epochs_50.keras'\n",
    "td_aug_name = 'td_aug_epochs_50.keras'\n",
    "\n",
    "pd_labels = ['Effusion', 'Pneumothorax', 'Atelectasis', 'Cardiomegaly', 'Pneumonia']\n",
    "td_labels = ['Chest_drain_tube', 'NSG_tube', 'Endotracheal_tube', 'Tracheostomy_tube']\n",
    "\n",
    "\n",
    "data_dir = \"/dtu/p1/johlau/LabelReliability_and_PathologyDetection_in_ChestXrays/\"\n",
    "model_dir =  \"/dtu/p1/johlau/LabelReliability_and_PathologyDetection_in_ChestXrays/ObjectDetection/models/\"\n",
    "output_dir = \"/dtu/p1/johlau/LabelReliability_and_PathologyDetection_in_ChestXrays/ObjectDetection/shap_plots/\"\n",
    "\n",
    "\n",
    "pathology_detection_test = pd.read_csv(data_dir + 'Data/Data_splits/pathology_detection-test.csv', index_col=0)\n",
    "pathology_detection_test[\"ImagePath\"] = pathology_detection_test[\"ImagePath\"].apply(lambda x: x.replace(\"/home/data_shares/purrlab_students/\", data_dir + \"Data/\"))\n",
    "\n",
    "\n",
    "tube_detection_test = pd.read_csv(\"/dtu/p1/johlau/LabelReliability_and_PathologyDetection_in_ChestXrays/\" + \"Annotation/Annotations_aggregated.csv\", index_col=0)\n",
    "tube_detection_test = tube_detection_test.rename({\"Chest_drain\":\"Chest_drain_tube\"},axis=1)\n",
    "tube_detection_test[\"ImagePath\"] = tube_detection_test[\"ImagePath\"].apply(lambda x: x.replace(\"../../\", data_dir))\n",
    "tube_detection_test = tube_detection_test.replace({-1:0})\n",
    "\n",
    "pathology_detection_test_aug = change_paths(pathology_detection_test ,\"padchest-cropped\")\n",
    "tube_detection_test_aug = change_paths(tube_detection_test ,\"padchest-cropped\")\n"
   ]
  },
  {
   "cell_type": "code",
   "execution_count": 24,
   "metadata": {},
   "outputs": [],
   "source": [
    "results_dir = \"/dtu/p1/johlau/LabelReliability_and_PathologyDetection_in_ChestXrays/ObjectDetection/predictions/\"\n",
    "result_names = os.listdir(\"/dtu/p1/johlau/LabelReliability_and_PathologyDetection_in_ChestXrays/ObjectDetection/predictions\")"
   ]
  },
  {
   "cell_type": "code",
   "execution_count": 25,
   "metadata": {},
   "outputs": [],
   "source": [
    "pd_result_names = [i for i in result_names if i.startswith(\"pd\") and i.endswith(\".json\")]\n",
    "pd_preds = {i:pd.read_json(results_dir+i) for i in pd_result_names}"
   ]
  },
  {
   "cell_type": "code",
   "execution_count": 26,
   "metadata": {},
   "outputs": [],
   "source": [
    "td_result_names = [i for i in result_names if i.startswith(\"td\") and i.endswith(\".json\")]\n",
    "td_preds = {i:pd.read_json(results_dir+i) for i in td_result_names}"
   ]
  },
  {
   "cell_type": "code",
   "execution_count": 27,
   "metadata": {},
   "outputs": [],
   "source": [
    "def get_most_confident_correct_and_incorrect_ids(name, preds, true, labels):\n",
    "    preds_df = preds[name.replace(\"keras\", \"json\")]\n",
    "\n",
    "    most_confident_correct = [preds_df[true[i] == 1][i].idxmax() for i in labels]\n",
    "    most_confident_incorrect = [preds_df[true[i] == 0][i].idxmax() for i in labels]\n",
    "\n",
    "\n",
    "    print(most_confident_correct, most_confident_incorrect)\n",
    "    return most_confident_correct, most_confident_incorrect\n",
    "\n"
   ]
  },
  {
   "cell_type": "code",
   "execution_count": 36,
   "metadata": {},
   "outputs": [
    {
     "name": "stdout",
     "output_type": "stream",
     "text": [
      "[4713, 1646, 376, 6650, 6390] [562, 21, 4713, 3478, 21]\n"
     ]
    }
   ],
   "source": [
    "pd_noaug_confident_correct, pd_noaug_confident_incorrect = get_most_confident_correct_and_incorrect_ids(pd_name, pd_preds, pathology_detection_test, pd_labels)"
   ]
  },
  {
   "cell_type": "code",
   "execution_count": 9,
   "metadata": {},
   "outputs": [
    {
     "name": "stdout",
     "output_type": "stream",
     "text": [
      "[2171, 267, 9196, 6939, 6390] [8663, 3594, 3889, 5793, 5611]\n"
     ]
    }
   ],
   "source": [
    "pd_aug_confident_correct, pd_aug_confident_incorrect = get_most_confident_correct_and_incorrect_ids(pd_aug_name, pd_preds, pathology_detection_test_aug, pd_labels)"
   ]
  },
  {
   "cell_type": "code",
   "execution_count": 10,
   "metadata": {},
   "outputs": [
    {
     "name": "stdout",
     "output_type": "stream",
     "text": [
      "[4713, 1646, 376, 8953, 6390] [8663, 9446, 4713, 5793, 21]\n"
     ]
    }
   ],
   "source": [
    "pd_mt_noaug_confident_correct, pd_mt_noaug_confident_incorrect = get_most_confident_correct_and_incorrect_ids(\"pd_\"+mt_name, pd_preds, pathology_detection_test, pd_labels)"
   ]
  },
  {
   "cell_type": "code",
   "execution_count": 11,
   "metadata": {},
   "outputs": [
    {
     "name": "stdout",
     "output_type": "stream",
     "text": [
      "[9160, 267, 9196, 6939, 1103] [8663, 6843, 9160, 1529, 5611]\n"
     ]
    }
   ],
   "source": [
    "pd_mt_aug_confident_correct, pd_mt_aug_confident_incorrect = get_most_confident_correct_and_incorrect_ids(\"pd_\"+mt_aug_name, pd_preds, pathology_detection_test_aug, pd_labels)"
   ]
  },
  {
   "cell_type": "code",
   "execution_count": 12,
   "metadata": {},
   "outputs": [],
   "source": [
    "shappable_ids = sorted(list(set(np.array([pd_noaug_confident_correct, pd_noaug_confident_incorrect,\n",
    "pd_aug_confident_correct, pd_aug_confident_incorrect,\n",
    "pd_mt_noaug_confident_correct, pd_mt_noaug_confident_incorrect,\n",
    "pd_mt_aug_confident_correct, pd_mt_aug_confident_incorrect]).flatten())))"
   ]
  },
  {
   "cell_type": "code",
   "execution_count": 13,
   "metadata": {},
   "outputs": [
    {
     "data": {
      "text/html": [
       "<div>\n",
       "<style scoped>\n",
       "    .dataframe tbody tr th:only-of-type {\n",
       "        vertical-align: middle;\n",
       "    }\n",
       "\n",
       "    .dataframe tbody tr th {\n",
       "        vertical-align: top;\n",
       "    }\n",
       "\n",
       "    .dataframe thead th {\n",
       "        text-align: right;\n",
       "    }\n",
       "</style>\n",
       "<table border=\"1\" class=\"dataframe\">\n",
       "  <thead>\n",
       "    <tr style=\"text-align: right;\">\n",
       "      <th></th>\n",
       "      <th>Effusion</th>\n",
       "      <th>Pneumothorax</th>\n",
       "      <th>Atelectasis</th>\n",
       "      <th>Cardiomegaly</th>\n",
       "      <th>Pneumonia</th>\n",
       "      <th>name</th>\n",
       "      <th>answered_correct?</th>\n",
       "    </tr>\n",
       "  </thead>\n",
       "  <tbody>\n",
       "    <tr>\n",
       "      <th>0</th>\n",
       "      <td>4713</td>\n",
       "      <td>1646</td>\n",
       "      <td>376</td>\n",
       "      <td>6650</td>\n",
       "      <td>6390</td>\n",
       "      <td>pd_noaug</td>\n",
       "      <td>correct</td>\n",
       "    </tr>\n",
       "    <tr>\n",
       "      <th>1</th>\n",
       "      <td>562</td>\n",
       "      <td>21</td>\n",
       "      <td>4713</td>\n",
       "      <td>3478</td>\n",
       "      <td>21</td>\n",
       "      <td>pd_noaug</td>\n",
       "      <td>incorrect</td>\n",
       "    </tr>\n",
       "    <tr>\n",
       "      <th>2</th>\n",
       "      <td>2171</td>\n",
       "      <td>267</td>\n",
       "      <td>9196</td>\n",
       "      <td>6939</td>\n",
       "      <td>6390</td>\n",
       "      <td>pd_aug</td>\n",
       "      <td>correct</td>\n",
       "    </tr>\n",
       "    <tr>\n",
       "      <th>3</th>\n",
       "      <td>8663</td>\n",
       "      <td>3594</td>\n",
       "      <td>3889</td>\n",
       "      <td>5793</td>\n",
       "      <td>5611</td>\n",
       "      <td>pd_aug</td>\n",
       "      <td>incorrect</td>\n",
       "    </tr>\n",
       "    <tr>\n",
       "      <th>4</th>\n",
       "      <td>4713</td>\n",
       "      <td>1646</td>\n",
       "      <td>376</td>\n",
       "      <td>8953</td>\n",
       "      <td>6390</td>\n",
       "      <td>mt_noaug</td>\n",
       "      <td>correct</td>\n",
       "    </tr>\n",
       "    <tr>\n",
       "      <th>5</th>\n",
       "      <td>8663</td>\n",
       "      <td>9446</td>\n",
       "      <td>4713</td>\n",
       "      <td>5793</td>\n",
       "      <td>21</td>\n",
       "      <td>mt_noaug</td>\n",
       "      <td>incorrect</td>\n",
       "    </tr>\n",
       "    <tr>\n",
       "      <th>6</th>\n",
       "      <td>9160</td>\n",
       "      <td>267</td>\n",
       "      <td>9196</td>\n",
       "      <td>6939</td>\n",
       "      <td>1103</td>\n",
       "      <td>mt_aug</td>\n",
       "      <td>correct</td>\n",
       "    </tr>\n",
       "    <tr>\n",
       "      <th>7</th>\n",
       "      <td>8663</td>\n",
       "      <td>6843</td>\n",
       "      <td>9160</td>\n",
       "      <td>1529</td>\n",
       "      <td>5611</td>\n",
       "      <td>mt_aug</td>\n",
       "      <td>incorrect</td>\n",
       "    </tr>\n",
       "  </tbody>\n",
       "</table>\n",
       "</div>"
      ],
      "text/plain": [
       "   Effusion  Pneumothorax  Atelectasis  Cardiomegaly  Pneumonia      name  \\\n",
       "0      4713          1646          376          6650       6390  pd_noaug   \n",
       "1       562            21         4713          3478         21  pd_noaug   \n",
       "2      2171           267         9196          6939       6390    pd_aug   \n",
       "3      8663          3594         3889          5793       5611    pd_aug   \n",
       "4      4713          1646          376          8953       6390  mt_noaug   \n",
       "5      8663          9446         4713          5793         21  mt_noaug   \n",
       "6      9160           267         9196          6939       1103    mt_aug   \n",
       "7      8663          6843         9160          1529       5611    mt_aug   \n",
       "\n",
       "  answered_correct?  \n",
       "0           correct  \n",
       "1         incorrect  \n",
       "2           correct  \n",
       "3         incorrect  \n",
       "4           correct  \n",
       "5         incorrect  \n",
       "6           correct  \n",
       "7         incorrect  "
      ]
     },
     "execution_count": 13,
     "metadata": {},
     "output_type": "execute_result"
    }
   ],
   "source": [
    "shap_id_df = pd.DataFrame([pd_noaug_confident_correct, pd_noaug_confident_incorrect,\n",
    "pd_aug_confident_correct, pd_aug_confident_incorrect,\n",
    "pd_mt_noaug_confident_correct, pd_mt_noaug_confident_incorrect,\n",
    "pd_mt_aug_confident_correct, pd_mt_aug_confident_incorrect], columns=pd_labels)\n",
    "\n",
    "\n",
    "shap_id_df[\"name\"]=[\n",
    "    \"pd_noaug\",\n",
    "    \"pd_noaug\",\n",
    "    \"pd_aug\",\n",
    "    \"pd_aug\",\n",
    "    \"mt_noaug\",\n",
    "    \"mt_noaug\",\n",
    "    \"mt_aug\",\n",
    "    \"mt_aug\",\n",
    "]\n",
    "\n",
    "shap_id_df[\"answered_correct?\"]=[\n",
    "    \"correct\",\n",
    "    \"incorrect\",\n",
    "    \"correct\",\n",
    "    \"incorrect\",\n",
    "    \"correct\",\n",
    "    \"incorrect\",\n",
    "    \"correct\",\n",
    "    \"incorrect\",\n",
    "]\n",
    "\n",
    "\n",
    "shap_id_df"
   ]
  },
  {
   "cell_type": "code",
   "execution_count": 14,
   "metadata": {},
   "outputs": [
    {
     "name": "stdout",
     "output_type": "stream",
     "text": [
      "Effusion        0\n",
      "Pneumothorax    0\n",
      "Atelectasis     0\n",
      "Cardiomegaly    0\n",
      "Pneumonia       0\n",
      "Name: 21, dtype: object\n",
      "Effusion        0\n",
      "Pneumothorax    1\n",
      "Atelectasis     0\n",
      "Cardiomegaly    0\n",
      "Pneumonia       0\n",
      "Name: 267, dtype: object\n",
      "Effusion        0\n",
      "Pneumothorax    0\n",
      "Atelectasis     1\n",
      "Cardiomegaly    0\n",
      "Pneumonia       0\n",
      "Name: 376, dtype: object\n",
      "Effusion        0\n",
      "Pneumothorax    0\n",
      "Atelectasis     0\n",
      "Cardiomegaly    0\n",
      "Pneumonia       0\n",
      "Name: 562, dtype: object\n",
      "Effusion        0\n",
      "Pneumothorax    0\n",
      "Atelectasis     0\n",
      "Cardiomegaly    0\n",
      "Pneumonia       1\n",
      "Name: 1103, dtype: object\n",
      "Effusion        0\n",
      "Pneumothorax    0\n",
      "Atelectasis     0\n",
      "Cardiomegaly    0\n",
      "Pneumonia       0\n",
      "Name: 1529, dtype: object\n",
      "Effusion        1\n",
      "Pneumothorax    1\n",
      "Atelectasis     1\n",
      "Cardiomegaly    0\n",
      "Pneumonia       0\n",
      "Name: 1646, dtype: object\n",
      "Effusion        1\n",
      "Pneumothorax    0\n",
      "Atelectasis     0\n",
      "Cardiomegaly    0\n",
      "Pneumonia       0\n",
      "Name: 2171, dtype: object\n",
      "Effusion        0\n",
      "Pneumothorax    0\n",
      "Atelectasis     0\n",
      "Cardiomegaly    0\n",
      "Pneumonia       0\n",
      "Name: 3478, dtype: object\n",
      "Effusion        0\n",
      "Pneumothorax    0\n",
      "Atelectasis     0\n",
      "Cardiomegaly    0\n",
      "Pneumonia       1\n",
      "Name: 3594, dtype: object\n",
      "Effusion        1\n",
      "Pneumothorax    0\n",
      "Atelectasis     0\n",
      "Cardiomegaly    0\n",
      "Pneumonia       0\n",
      "Name: 3889, dtype: object\n",
      "Effusion        1\n",
      "Pneumothorax    0\n",
      "Atelectasis     0\n",
      "Cardiomegaly    1\n",
      "Pneumonia       0\n",
      "Name: 4713, dtype: object\n",
      "Effusion        0\n",
      "Pneumothorax    0\n",
      "Atelectasis     0\n",
      "Cardiomegaly    0\n",
      "Pneumonia       0\n",
      "Name: 5611, dtype: object\n",
      "Effusion        1\n",
      "Pneumothorax    0\n",
      "Atelectasis     0\n",
      "Cardiomegaly    0\n",
      "Pneumonia       0\n",
      "Name: 5793, dtype: object\n",
      "Effusion        1\n",
      "Pneumothorax    0\n",
      "Atelectasis     0\n",
      "Cardiomegaly    0\n",
      "Pneumonia       1\n",
      "Name: 6390, dtype: object\n",
      "Effusion        0\n",
      "Pneumothorax    0\n",
      "Atelectasis     0\n",
      "Cardiomegaly    1\n",
      "Pneumonia       0\n",
      "Name: 6650, dtype: object\n",
      "Effusion        0\n",
      "Pneumothorax    0\n",
      "Atelectasis     0\n",
      "Cardiomegaly    0\n",
      "Pneumonia       0\n",
      "Name: 6843, dtype: object\n",
      "Effusion        0\n",
      "Pneumothorax    0\n",
      "Atelectasis     0\n",
      "Cardiomegaly    1\n",
      "Pneumonia       0\n",
      "Name: 6939, dtype: object\n",
      "Effusion        0\n",
      "Pneumothorax    0\n",
      "Atelectasis     0\n",
      "Cardiomegaly    0\n",
      "Pneumonia       0\n",
      "Name: 8663, dtype: object\n",
      "Effusion        1\n",
      "Pneumothorax    0\n",
      "Atelectasis     0\n",
      "Cardiomegaly    1\n",
      "Pneumonia       0\n",
      "Name: 8953, dtype: object\n",
      "Effusion        1\n",
      "Pneumothorax    0\n",
      "Atelectasis     0\n",
      "Cardiomegaly    0\n",
      "Pneumonia       0\n",
      "Name: 9160, dtype: object\n",
      "Effusion        1\n",
      "Pneumothorax    0\n",
      "Atelectasis     1\n",
      "Cardiomegaly    0\n",
      "Pneumonia       0\n",
      "Name: 9196, dtype: object\n",
      "Effusion        0\n",
      "Pneumothorax    0\n",
      "Atelectasis     0\n",
      "Cardiomegaly    0\n",
      "Pneumonia       0\n",
      "Name: 9446, dtype: object\n"
     ]
    }
   ],
   "source": [
    "for i in range(len(shappable_ids)):\n",
    "    print(pathology_detection_test.iloc[shappable_ids[i]][pd_labels])"
   ]
  },
  {
   "cell_type": "code",
   "execution_count": 15,
   "metadata": {},
   "outputs": [],
   "source": [
    "shappable_index = {v:i for i, v in enumerate(shappable_ids)}"
   ]
  },
  {
   "cell_type": "code",
   "execution_count": 16,
   "metadata": {},
   "outputs": [],
   "source": [
    "shap_folder = \"/dtu/p1/johlau/LabelReliability_and_PathologyDetection_in_ChestXrays/ObjectDetection/shap_values/\"\n",
    "\n",
    "with open(shap_folder + \"pd_epochs_50.pickle\", \"rb\") as file:\n",
    "    shap_values_pd_noaug = pickle.load(file)\n",
    "\n",
    "with open(shap_folder + \"pd_aug_epochs_50.pickle\", \"rb\") as file:\n",
    "    shap_values_pd_aug  = pickle.load(file)\n",
    "\n",
    "with open(shap_folder + \"mt_gamma_0.8_epochs_50.pickle\", \"rb\") as file:\n",
    "    shap_values_mt_noaug  = pickle.load(file)\n",
    "\n",
    "with open(shap_folder + \"mt_aug_gamma_0.8_epochs_50.pickle\", \"rb\") as file:\n",
    "   shap_values_mt_aug  = pickle.load(file)\n",
    "\n",
    "shap_dict ={\n",
    "    \"pd_noaug\": shap_values_pd_noaug,\n",
    "    \"pd_aug\": shap_values_pd_aug,\n",
    "    \"mt_noaug\":shap_values_mt_noaug,\n",
    "    \"mt_aug\":shap_values_mt_aug,\n",
    "}\n",
    "\n",
    "correct_df = shap_id_df[shap_id_df[\"answered_correct?\"] == \"correct\"]\n",
    "incorrect_df = shap_id_df[shap_id_df[\"answered_correct?\"] == \"incorrect\"]"
   ]
  },
  {
   "cell_type": "code",
   "execution_count": 17,
   "metadata": {},
   "outputs": [],
   "source": [
    "# correct_df = shap_id_df[shap_id_df[\"answered_correct?\"] == \"correct\"]\n",
    "# incorrect_df = shap_id_df[shap_id_df[\"answered_correct?\"] == \"incorrect\"]\n",
    "\n",
    "# for label in pd_labels:\n",
    "#     for i in range(3):\n",
    "#         model_name = correct_df.iloc[i][\"name\"]\n",
    "#         answer = correct_df.iloc[i][\"answered_correct?\"]\n",
    "\n",
    "#         print(f\"Model: {model_name}, and its confidence was {answer}\")\n",
    "#         shap_id = correct_df.iloc[i][label]\n",
    "#         print(f\"Pathology: {label}, id: {shap_id}\")\n",
    "#         shap_index = shappable_index[shap_id]\n",
    "#         shap.image_plot(shap_dict[correct_df.iloc[i][\"name\"]][shap_index:(shap_index+1)])\n",
    "\n",
    "#     for i in range(3):\n",
    "#         model_name = incorrect_df.iloc[i][\"name\"]\n",
    "#         answer = incorrect_df.iloc[i][\"answered_correct?\"]\n",
    "\n",
    "#         print(f\"Model: {model_name}, and its confidence was {answer}\")\n",
    "#         shap_id = incorrect_df.iloc[i][label]\n",
    "#         print(f\"Pathology: {label}, id: {shap_id}\")\n",
    "#         shap_index = shappable_index[shap_id]\n",
    "#         shap.image_plot(shap_dict[incorrect_df.iloc[i][\"name\"]][shap_index:(shap_index+1)])    \n",
    "        \n"
   ]
  },
  {
   "cell_type": "code",
   "execution_count": 39,
   "metadata": {},
   "outputs": [
    {
     "name": "stdout",
     "output_type": "stream",
     "text": [
      "['shap_plots/4713_pd_noaug.png', 'shap_plots/4713_pd_aug.png', 'shap_plots/4713_mt_noaug.png', 'shap_plots/4713_mt_aug.png', 'shap_plots/2171_pd_noaug.png', 'shap_plots/2171_pd_aug.png', 'shap_plots/2171_mt_noaug.png', 'shap_plots/2171_mt_aug.png', 'shap_plots/1646_pd_noaug.png', 'shap_plots/1646_pd_aug.png', 'shap_plots/1646_mt_noaug.png', 'shap_plots/1646_mt_aug.png', 'shap_plots/267_pd_noaug.png', 'shap_plots/267_pd_aug.png', 'shap_plots/267_mt_noaug.png', 'shap_plots/267_mt_aug.png', 'shap_plots/376_pd_noaug.png', 'shap_plots/376_pd_aug.png', 'shap_plots/376_mt_noaug.png', 'shap_plots/376_mt_aug.png', 'shap_plots/9196_pd_noaug.png', 'shap_plots/9196_pd_aug.png', 'shap_plots/9196_mt_noaug.png', 'shap_plots/9196_mt_aug.png', 'shap_plots/6650_pd_noaug.png', 'shap_plots/6650_pd_aug.png', 'shap_plots/6650_mt_noaug.png', 'shap_plots/6650_mt_aug.png', 'shap_plots/6939_pd_noaug.png', 'shap_plots/6939_pd_aug.png', 'shap_plots/6939_mt_noaug.png', 'shap_plots/6939_mt_aug.png', 'shap_plots/6390_pd_noaug.png', 'shap_plots/6390_pd_aug.png', 'shap_plots/6390_mt_noaug.png', 'shap_plots/6390_mt_aug.png']\n"
     ]
    }
   ],
   "source": [
    "print([\"shap_plots/\"+i for i in os.listdir(\"shap_plots\")])"
   ]
  },
  {
   "cell_type": "code",
   "execution_count": 18,
   "metadata": {},
   "outputs": [
    {
     "name": "stdout",
     "output_type": "stream",
     "text": [
      "Effusion\n",
      "For X-ray with id: 4713\n",
      "Model: pd_noaug most confident correct answer was ['Effusion'] for this x-ray\n",
      "Model: pd_noaug most confident wrong answers were ['Atelectasis'] for this x-ray\n",
      "Model: mt_noaug most confident correct answer was ['Effusion'] for this x-ray\n",
      "Model: mt_noaug most confident wrong answers were ['Atelectasis'] for this x-ray\n",
      "For X-ray with id: 2171\n",
      "Model: pd_aug most confident correct answer was ['Effusion'] for this x-ray\n",
      "Pneumothorax\n",
      "For X-ray with id: 1646\n",
      "Model: pd_noaug most confident correct answer was ['Pneumothorax'] for this x-ray\n",
      "Model: mt_noaug most confident correct answer was ['Pneumothorax'] for this x-ray\n",
      "For X-ray with id: 267\n",
      "Model: pd_aug most confident correct answer was ['Pneumothorax'] for this x-ray\n",
      "Model: mt_aug most confident correct answer was ['Pneumothorax'] for this x-ray\n",
      "Atelectasis\n",
      "For X-ray with id: 376\n",
      "Model: pd_noaug most confident correct answer was ['Atelectasis'] for this x-ray\n",
      "Model: mt_noaug most confident correct answer was ['Atelectasis'] for this x-ray\n",
      "For X-ray with id: 9196\n",
      "Model: pd_aug most confident correct answer was ['Atelectasis'] for this x-ray\n",
      "Model: mt_aug most confident correct answer was ['Atelectasis'] for this x-ray\n"
     ]
    },
    {
     "ename": "MemoryError",
     "evalue": "Unable to allocate 24.0 MiB for an array with shape (1, 786431, 4) and data type float64",
     "output_type": "error",
     "traceback": [
      "\u001b[0;31m---------------------------------------------------------------------------\u001b[0m",
      "\u001b[0;31mMemoryError\u001b[0m                               Traceback (most recent call last)",
      "Cell \u001b[0;32mIn [18], line 28\u001b[0m\n\u001b[1;32m     25\u001b[0m \u001b[38;5;28;01mfor\u001b[39;00m key \u001b[38;5;129;01min\u001b[39;00m shap_dict\u001b[38;5;241m.\u001b[39mkeys():\n\u001b[1;32m     26\u001b[0m     \u001b[38;5;66;03m#print(key)\u001b[39;00m\n\u001b[1;32m     27\u001b[0m     shap_index \u001b[38;5;241m=\u001b[39m shappable_index[xray_id]\n\u001b[0;32m---> 28\u001b[0m     shap\u001b[38;5;241m.\u001b[39mimage_plot(\u001b[43mshap_dict\u001b[49m\u001b[43m[\u001b[49m\u001b[43mkey\u001b[49m\u001b[43m]\u001b[49m\u001b[43m[\u001b[49m\u001b[43mshap_index\u001b[49m\u001b[43m:\u001b[49m\u001b[43m(\u001b[49m\u001b[43mshap_index\u001b[49m\u001b[38;5;241;43m+\u001b[39;49m\u001b[38;5;241;43m1\u001b[39;49m\u001b[43m)\u001b[49m\u001b[43m]\u001b[49m, show\u001b[38;5;241m=\u001b[39m\u001b[38;5;28;01mFalse\u001b[39;00m)\n\u001b[1;32m     29\u001b[0m     plt\u001b[38;5;241m.\u001b[39msavefig(output_dir\u001b[38;5;241m+\u001b[39m\u001b[38;5;124mf\u001b[39m\u001b[38;5;124m\"\u001b[39m\u001b[38;5;132;01m{\u001b[39;00mxray_id\u001b[38;5;132;01m}\u001b[39;00m\u001b[38;5;124m_\u001b[39m\u001b[38;5;132;01m{\u001b[39;00mkey\u001b[38;5;132;01m}\u001b[39;00m\u001b[38;5;124m.png\u001b[39m\u001b[38;5;124m\"\u001b[39m)\n\u001b[1;32m     30\u001b[0m     plt\u001b[38;5;241m.\u001b[39mclose()\n",
      "File \u001b[0;32m~/.local/lib/python3.9/site-packages/shap/_explanation.py:422\u001b[0m, in \u001b[0;36mExplanation.__getitem__\u001b[0;34m(self, item)\u001b[0m\n\u001b[1;32m    420\u001b[0m \u001b[38;5;28;01mif\u001b[39;00m new_self \u001b[38;5;129;01mis\u001b[39;00m \u001b[38;5;28;01mNone\u001b[39;00m:\n\u001b[1;32m    421\u001b[0m     new_self \u001b[38;5;241m=\u001b[39m copy\u001b[38;5;241m.\u001b[39mcopy(\u001b[38;5;28mself\u001b[39m)\n\u001b[0;32m--> 422\u001b[0m new_self\u001b[38;5;241m.\u001b[39m_s \u001b[38;5;241m=\u001b[39m \u001b[43mnew_self\u001b[49m\u001b[38;5;241;43m.\u001b[39;49m\u001b[43m_s\u001b[49m\u001b[38;5;241;43m.\u001b[39;49m\u001b[38;5;21;43m__getitem__\u001b[39;49m\u001b[43m(\u001b[49m\u001b[43mitem\u001b[49m\u001b[43m)\u001b[49m\n\u001b[1;32m    423\u001b[0m new_self\u001b[38;5;241m.\u001b[39mop_history\u001b[38;5;241m.\u001b[39mappend({\n\u001b[1;32m    424\u001b[0m     \u001b[38;5;124m\"\u001b[39m\u001b[38;5;124mname\u001b[39m\u001b[38;5;124m\"\u001b[39m: \u001b[38;5;124m\"\u001b[39m\u001b[38;5;124m__getitem__\u001b[39m\u001b[38;5;124m\"\u001b[39m,\n\u001b[1;32m    425\u001b[0m     \u001b[38;5;124m\"\u001b[39m\u001b[38;5;124margs\u001b[39m\u001b[38;5;124m\"\u001b[39m: (item,),\n\u001b[1;32m    426\u001b[0m     \u001b[38;5;124m\"\u001b[39m\u001b[38;5;124mprev_shape\u001b[39m\u001b[38;5;124m\"\u001b[39m: \u001b[38;5;28mself\u001b[39m\u001b[38;5;241m.\u001b[39mshape\n\u001b[1;32m    427\u001b[0m })\n\u001b[1;32m    429\u001b[0m \u001b[38;5;28;01mreturn\u001b[39;00m new_self\n",
      "File \u001b[0;32m~/.local/lib/python3.9/site-packages/slicer/slicer.py:112\u001b[0m, in \u001b[0;36mSlicer.__getitem__\u001b[0;34m(self, item)\u001b[0m\n\u001b[1;32m    110\u001b[0m index_slicer \u001b[38;5;241m=\u001b[39m AtomicSlicer(index_tup, max_dim\u001b[38;5;241m=\u001b[39m\u001b[38;5;241m1\u001b[39m)\n\u001b[1;32m    111\u001b[0m slicer_index \u001b[38;5;241m=\u001b[39m index_slicer[tracked\u001b[38;5;241m.\u001b[39mdim]\n\u001b[0;32m--> 112\u001b[0m sliced_o \u001b[38;5;241m=\u001b[39m \u001b[43mtracked\u001b[49m\u001b[43m[\u001b[49m\u001b[43mslicer_index\u001b[49m\u001b[43m]\u001b[49m\n\u001b[1;32m    113\u001b[0m sliced_dim \u001b[38;5;241m=\u001b[39m resolve_dim(index_tup, tracked\u001b[38;5;241m.\u001b[39mdim)\n\u001b[1;32m    115\u001b[0m new_tracked \u001b[38;5;241m=\u001b[39m tracked\u001b[38;5;241m.\u001b[39m\u001b[38;5;18m__class__\u001b[39m(sliced_o, sliced_dim)\n",
      "File \u001b[0;32m~/.local/lib/python3.9/site-packages/slicer/slicer_internal.py:69\u001b[0m, in \u001b[0;36mAtomicSlicer.__getitem__\u001b[0;34m(self, item)\u001b[0m\n\u001b[1;32m     66\u001b[0m index_tup \u001b[38;5;241m=\u001b[39m unify_slice(item, \u001b[38;5;28mself\u001b[39m\u001b[38;5;241m.\u001b[39mmax_dim)\n\u001b[1;32m     68\u001b[0m \u001b[38;5;66;03m# Slice according to object type.\u001b[39;00m\n\u001b[0;32m---> 69\u001b[0m \u001b[38;5;28;01mreturn\u001b[39;00m \u001b[43mUnifiedDataHandler\u001b[49m\u001b[38;5;241;43m.\u001b[39;49m\u001b[43mslice\u001b[49m\u001b[43m(\u001b[49m\u001b[38;5;28;43mself\u001b[39;49m\u001b[38;5;241;43m.\u001b[39;49m\u001b[43mo\u001b[49m\u001b[43m,\u001b[49m\u001b[43m \u001b[49m\u001b[43mindex_tup\u001b[49m\u001b[43m,\u001b[49m\u001b[43m \u001b[49m\u001b[38;5;28;43mself\u001b[39;49m\u001b[38;5;241;43m.\u001b[39;49m\u001b[43mmax_dim\u001b[49m\u001b[43m)\u001b[49m\n",
      "File \u001b[0;32m~/.local/lib/python3.9/site-packages/slicer/slicer_internal.py:583\u001b[0m, in \u001b[0;36mUnifiedDataHandler.slice\u001b[0;34m(cls, o, index_tup, max_dim)\u001b[0m\n\u001b[1;32m    580\u001b[0m tail_slice \u001b[38;5;241m=\u001b[39m \u001b[38;5;28mcls\u001b[39m\u001b[38;5;241m.\u001b[39mtype_map[o_type]\u001b[38;5;241m.\u001b[39mtail_slice\n\u001b[1;32m    582\u001b[0m is_element, sliced_o, cut \u001b[38;5;241m=\u001b[39m head_slice(o, index_tup, max_dim)\n\u001b[0;32m--> 583\u001b[0m out \u001b[38;5;241m=\u001b[39m \u001b[43mtail_slice\u001b[49m\u001b[43m(\u001b[49m\u001b[43msliced_o\u001b[49m\u001b[43m,\u001b[49m\u001b[43m \u001b[49m\u001b[43mindex_tup\u001b[49m\u001b[43m[\u001b[49m\u001b[43mcut\u001b[49m\u001b[43m:\u001b[49m\u001b[43m]\u001b[49m\u001b[43m,\u001b[49m\u001b[43m \u001b[49m\u001b[43mmax_dim\u001b[49m\u001b[43m \u001b[49m\u001b[38;5;241;43m-\u001b[39;49m\u001b[43m \u001b[49m\u001b[43mcut\u001b[49m\u001b[43m,\u001b[49m\u001b[43m \u001b[49m\u001b[43mis_element\u001b[49m\u001b[43m)\u001b[49m\n\u001b[1;32m    584\u001b[0m \u001b[38;5;28;01mreturn\u001b[39;00m out\n",
      "File \u001b[0;32m~/.local/lib/python3.9/site-packages/slicer/slicer_internal.py:443\u001b[0m, in \u001b[0;36mArrayHandler.tail_slice\u001b[0;34m(cls, o, tail_index, max_dim, flatten)\u001b[0m\n\u001b[1;32m    440\u001b[0m \u001b[38;5;28;01mif\u001b[39;00m _safe_isinstance(o, \u001b[38;5;124m\"\u001b[39m\u001b[38;5;124mnumpy\u001b[39m\u001b[38;5;124m\"\u001b[39m, \u001b[38;5;124m\"\u001b[39m\u001b[38;5;124mndarray\u001b[39m\u001b[38;5;124m\"\u001b[39m):\n\u001b[1;32m    441\u001b[0m     \u001b[38;5;28;01mimport\u001b[39;00m \u001b[38;5;21;01mnumpy\u001b[39;00m\n\u001b[0;32m--> 443\u001b[0m     \u001b[38;5;28;01mreturn\u001b[39;00m \u001b[43mnumpy\u001b[49m\u001b[38;5;241;43m.\u001b[39;49m\u001b[43marray\u001b[49m\u001b[43m(\u001b[49m\u001b[43minner\u001b[49m\u001b[43m)\u001b[49m\n\u001b[1;32m    444\u001b[0m \u001b[38;5;28;01melif\u001b[39;00m _safe_isinstance(o, \u001b[38;5;124m\"\u001b[39m\u001b[38;5;124mtorch\u001b[39m\u001b[38;5;124m\"\u001b[39m, \u001b[38;5;124m\"\u001b[39m\u001b[38;5;124mTensor\u001b[39m\u001b[38;5;124m\"\u001b[39m):\n\u001b[1;32m    445\u001b[0m     \u001b[38;5;28;01mimport\u001b[39;00m \u001b[38;5;21;01mtorch\u001b[39;00m\n",
      "\u001b[0;31mMemoryError\u001b[0m: Unable to allocate 24.0 MiB for an array with shape (1, 786431, 4) and data type float64"
     ]
    }
   ],
   "source": [
    "seen_ids = list()\n",
    "\n",
    "for label in pd_labels:\n",
    "    print(label)\n",
    "\n",
    "    for i in range(0,2):\n",
    "\n",
    "        xray_id = correct_df.iloc[i][label]\n",
    "        if xray_id in seen_ids:\n",
    "            continue\n",
    "        print(f\"For X-ray with id: {xray_id}\")\n",
    "\n",
    "        \n",
    "        for index in  shap_id_df[shap_id_df == xray_id].dropna(how=\"all\").dropna(axis=1, how=\"all\").index:\n",
    "            \n",
    "            name = shap_id_df.iloc[index][\"name\"]\n",
    "            was_correct = shap_id_df.iloc[index][\"answered_correct?\"]\n",
    "            confident_guesses = list(shap_id_df[shap_id_df == xray_id].iloc[index].dropna(how=\"all\").keys())\n",
    "            if was_correct == \"correct\":\n",
    "                print(f\"Model: {name} most confident correct answer was {confident_guesses} for this x-ray\")\n",
    "            else:\n",
    "                print(f\"Model: {name} most confident wrong answers were {confident_guesses} for this x-ray\")\n",
    "    \n",
    "        \n",
    "        for key in shap_dict.keys():\n",
    "            #print(key)\n",
    "            shap_index = shappable_index[xray_id]\n",
    "            shap.image_plot(shap_dict[key][shap_index:(shap_index+1)], show=False)\n",
    "            plt.savefig(output_dir+f\"{xray_id}_{key}.png\")\n",
    "            plt.close()\n",
    "\n",
    "\n",
    "        seen_ids.append(xray_id)\n",
    "\n"
   ]
  },
  {
   "cell_type": "code",
   "execution_count": 20,
   "metadata": {},
   "outputs": [
    {
     "ename": "MemoryError",
     "evalue": "Unable to allocate 30.0 MiB for an array with shape (1, 512, 512, 3, 5) and data type float64",
     "output_type": "error",
     "traceback": [
      "\u001b[0;31m---------------------------------------------------------------------------\u001b[0m",
      "\u001b[0;31mMemoryError\u001b[0m                               Traceback (most recent call last)",
      "Cell \u001b[0;32mIn [20], line 1\u001b[0m\n\u001b[0;32m----> 1\u001b[0m \u001b[43mshap_dict\u001b[49m\u001b[43m[\u001b[49m\u001b[43mkey\u001b[49m\u001b[43m]\u001b[49m\u001b[43m[\u001b[49m\u001b[43mshap_index\u001b[49m\u001b[43m:\u001b[49m\u001b[43m(\u001b[49m\u001b[43mshap_index\u001b[49m\u001b[38;5;241;43m+\u001b[39;49m\u001b[38;5;241;43m1\u001b[39;49m\u001b[43m)\u001b[49m\u001b[43m]\u001b[49m\u001b[38;5;241m.\u001b[39mshape\n",
      "File \u001b[0;32m~/.local/lib/python3.9/site-packages/shap/_explanation.py:422\u001b[0m, in \u001b[0;36mExplanation.__getitem__\u001b[0;34m(self, item)\u001b[0m\n\u001b[1;32m    420\u001b[0m \u001b[38;5;28;01mif\u001b[39;00m new_self \u001b[38;5;129;01mis\u001b[39;00m \u001b[38;5;28;01mNone\u001b[39;00m:\n\u001b[1;32m    421\u001b[0m     new_self \u001b[38;5;241m=\u001b[39m copy\u001b[38;5;241m.\u001b[39mcopy(\u001b[38;5;28mself\u001b[39m)\n\u001b[0;32m--> 422\u001b[0m new_self\u001b[38;5;241m.\u001b[39m_s \u001b[38;5;241m=\u001b[39m \u001b[43mnew_self\u001b[49m\u001b[38;5;241;43m.\u001b[39;49m\u001b[43m_s\u001b[49m\u001b[38;5;241;43m.\u001b[39;49m\u001b[38;5;21;43m__getitem__\u001b[39;49m\u001b[43m(\u001b[49m\u001b[43mitem\u001b[49m\u001b[43m)\u001b[49m\n\u001b[1;32m    423\u001b[0m new_self\u001b[38;5;241m.\u001b[39mop_history\u001b[38;5;241m.\u001b[39mappend({\n\u001b[1;32m    424\u001b[0m     \u001b[38;5;124m\"\u001b[39m\u001b[38;5;124mname\u001b[39m\u001b[38;5;124m\"\u001b[39m: \u001b[38;5;124m\"\u001b[39m\u001b[38;5;124m__getitem__\u001b[39m\u001b[38;5;124m\"\u001b[39m,\n\u001b[1;32m    425\u001b[0m     \u001b[38;5;124m\"\u001b[39m\u001b[38;5;124margs\u001b[39m\u001b[38;5;124m\"\u001b[39m: (item,),\n\u001b[1;32m    426\u001b[0m     \u001b[38;5;124m\"\u001b[39m\u001b[38;5;124mprev_shape\u001b[39m\u001b[38;5;124m\"\u001b[39m: \u001b[38;5;28mself\u001b[39m\u001b[38;5;241m.\u001b[39mshape\n\u001b[1;32m    427\u001b[0m })\n\u001b[1;32m    429\u001b[0m \u001b[38;5;28;01mreturn\u001b[39;00m new_self\n",
      "File \u001b[0;32m~/.local/lib/python3.9/site-packages/slicer/slicer.py:112\u001b[0m, in \u001b[0;36mSlicer.__getitem__\u001b[0;34m(self, item)\u001b[0m\n\u001b[1;32m    110\u001b[0m index_slicer \u001b[38;5;241m=\u001b[39m AtomicSlicer(index_tup, max_dim\u001b[38;5;241m=\u001b[39m\u001b[38;5;241m1\u001b[39m)\n\u001b[1;32m    111\u001b[0m slicer_index \u001b[38;5;241m=\u001b[39m index_slicer[tracked\u001b[38;5;241m.\u001b[39mdim]\n\u001b[0;32m--> 112\u001b[0m sliced_o \u001b[38;5;241m=\u001b[39m \u001b[43mtracked\u001b[49m\u001b[43m[\u001b[49m\u001b[43mslicer_index\u001b[49m\u001b[43m]\u001b[49m\n\u001b[1;32m    113\u001b[0m sliced_dim \u001b[38;5;241m=\u001b[39m resolve_dim(index_tup, tracked\u001b[38;5;241m.\u001b[39mdim)\n\u001b[1;32m    115\u001b[0m new_tracked \u001b[38;5;241m=\u001b[39m tracked\u001b[38;5;241m.\u001b[39m\u001b[38;5;18m__class__\u001b[39m(sliced_o, sliced_dim)\n",
      "File \u001b[0;32m~/.local/lib/python3.9/site-packages/slicer/slicer_internal.py:69\u001b[0m, in \u001b[0;36mAtomicSlicer.__getitem__\u001b[0;34m(self, item)\u001b[0m\n\u001b[1;32m     66\u001b[0m index_tup \u001b[38;5;241m=\u001b[39m unify_slice(item, \u001b[38;5;28mself\u001b[39m\u001b[38;5;241m.\u001b[39mmax_dim)\n\u001b[1;32m     68\u001b[0m \u001b[38;5;66;03m# Slice according to object type.\u001b[39;00m\n\u001b[0;32m---> 69\u001b[0m \u001b[38;5;28;01mreturn\u001b[39;00m \u001b[43mUnifiedDataHandler\u001b[49m\u001b[38;5;241;43m.\u001b[39;49m\u001b[43mslice\u001b[49m\u001b[43m(\u001b[49m\u001b[38;5;28;43mself\u001b[39;49m\u001b[38;5;241;43m.\u001b[39;49m\u001b[43mo\u001b[49m\u001b[43m,\u001b[49m\u001b[43m \u001b[49m\u001b[43mindex_tup\u001b[49m\u001b[43m,\u001b[49m\u001b[43m \u001b[49m\u001b[38;5;28;43mself\u001b[39;49m\u001b[38;5;241;43m.\u001b[39;49m\u001b[43mmax_dim\u001b[49m\u001b[43m)\u001b[49m\n",
      "File \u001b[0;32m~/.local/lib/python3.9/site-packages/slicer/slicer_internal.py:583\u001b[0m, in \u001b[0;36mUnifiedDataHandler.slice\u001b[0;34m(cls, o, index_tup, max_dim)\u001b[0m\n\u001b[1;32m    580\u001b[0m tail_slice \u001b[38;5;241m=\u001b[39m \u001b[38;5;28mcls\u001b[39m\u001b[38;5;241m.\u001b[39mtype_map[o_type]\u001b[38;5;241m.\u001b[39mtail_slice\n\u001b[1;32m    582\u001b[0m is_element, sliced_o, cut \u001b[38;5;241m=\u001b[39m head_slice(o, index_tup, max_dim)\n\u001b[0;32m--> 583\u001b[0m out \u001b[38;5;241m=\u001b[39m \u001b[43mtail_slice\u001b[49m\u001b[43m(\u001b[49m\u001b[43msliced_o\u001b[49m\u001b[43m,\u001b[49m\u001b[43m \u001b[49m\u001b[43mindex_tup\u001b[49m\u001b[43m[\u001b[49m\u001b[43mcut\u001b[49m\u001b[43m:\u001b[49m\u001b[43m]\u001b[49m\u001b[43m,\u001b[49m\u001b[43m \u001b[49m\u001b[43mmax_dim\u001b[49m\u001b[43m \u001b[49m\u001b[38;5;241;43m-\u001b[39;49m\u001b[43m \u001b[49m\u001b[43mcut\u001b[49m\u001b[43m,\u001b[49m\u001b[43m \u001b[49m\u001b[43mis_element\u001b[49m\u001b[43m)\u001b[49m\n\u001b[1;32m    584\u001b[0m \u001b[38;5;28;01mreturn\u001b[39;00m out\n",
      "File \u001b[0;32m~/.local/lib/python3.9/site-packages/slicer/slicer_internal.py:443\u001b[0m, in \u001b[0;36mArrayHandler.tail_slice\u001b[0;34m(cls, o, tail_index, max_dim, flatten)\u001b[0m\n\u001b[1;32m    440\u001b[0m \u001b[38;5;28;01mif\u001b[39;00m _safe_isinstance(o, \u001b[38;5;124m\"\u001b[39m\u001b[38;5;124mnumpy\u001b[39m\u001b[38;5;124m\"\u001b[39m, \u001b[38;5;124m\"\u001b[39m\u001b[38;5;124mndarray\u001b[39m\u001b[38;5;124m\"\u001b[39m):\n\u001b[1;32m    441\u001b[0m     \u001b[38;5;28;01mimport\u001b[39;00m \u001b[38;5;21;01mnumpy\u001b[39;00m\n\u001b[0;32m--> 443\u001b[0m     \u001b[38;5;28;01mreturn\u001b[39;00m \u001b[43mnumpy\u001b[49m\u001b[38;5;241;43m.\u001b[39;49m\u001b[43marray\u001b[49m\u001b[43m(\u001b[49m\u001b[43minner\u001b[49m\u001b[43m)\u001b[49m\n\u001b[1;32m    444\u001b[0m \u001b[38;5;28;01melif\u001b[39;00m _safe_isinstance(o, \u001b[38;5;124m\"\u001b[39m\u001b[38;5;124mtorch\u001b[39m\u001b[38;5;124m\"\u001b[39m, \u001b[38;5;124m\"\u001b[39m\u001b[38;5;124mTensor\u001b[39m\u001b[38;5;124m\"\u001b[39m):\n\u001b[1;32m    445\u001b[0m     \u001b[38;5;28;01mimport\u001b[39;00m \u001b[38;5;21;01mtorch\u001b[39;00m\n",
      "\u001b[0;31mMemoryError\u001b[0m: Unable to allocate 30.0 MiB for an array with shape (1, 512, 512, 3, 5) and data type float64"
     ]
    }
   ],
   "source": [
    "shap_dict[key][shap_index:(shap_index+1)].shape"
   ]
  },
  {
   "cell_type": "code",
   "execution_count": null,
   "metadata": {},
   "outputs": [
    {
     "name": "stdout",
     "output_type": "stream",
     "text": [
      "1\n",
      "['Pneumothorax', 'Pneumonia']\n",
      "5\n",
      "['Pneumonia']\n"
     ]
    }
   ],
   "source": [
    "# seen_ids = list()\n",
    "\n",
    "# for label in pd_labels:\n",
    "#     print(label)\n",
    "\n",
    "#     for i in range(len(incorrect_df)):\n",
    "\n",
    "#         xray_id = incorrect_df.iloc[i][label]\n",
    "#         if xray_id in seen_ids:\n",
    "#             continue\n",
    "#         print(f\"For X-ray with id: {xray_id}\")\n",
    "\n",
    "        \n",
    "#         for index in  shap_id_df[shap_id_df == xray_id].dropna(how=\"all\").dropna(axis=1, how=\"all\").index:\n",
    "            \n",
    "#             name = shap_id_df.iloc[index][\"name\"]\n",
    "#             was_correct = shap_id_df.iloc[index][\"answered_correct?\"]\n",
    "#             confident_guesses = list(shap_id_df[shap_id_df == xray_id].iloc[index].dropna(how=\"all\").keys())\n",
    "#             if was_correct == \"correct\":\n",
    "#                 print(f\"Model: {name} most confident correct answer was {confident_guesses} for this x-ray\")\n",
    "#             else:\n",
    "#                 print(f\"Model: {name} most confident wrong answers were {confident_guesses} for this x-ray\")\n",
    "    \n",
    "        \n",
    "#         for key in shap_dict.keys():\n",
    "#             print(key)\n",
    "#             shap_index = shappable_index[xray_id]\n",
    "#             shap.image_plot(shap_dict[key][shap_index:(shap_index+1)])  \n",
    "\n",
    "\n",
    "#         seen_ids.append(xray_id)\n",
    "\n",
    "    "
   ]
  },
  {
   "cell_type": "code",
   "execution_count": null,
   "metadata": {},
   "outputs": [],
   "source": []
  }
 ],
 "metadata": {
  "kernelspec": {
   "display_name": "Python 3",
   "language": "python",
   "name": "python3"
  },
  "language_info": {
   "codemirror_mode": {
    "name": "ipython",
    "version": 3
   },
   "file_extension": ".py",
   "mimetype": "text/x-python",
   "name": "python",
   "nbconvert_exporter": "python",
   "pygments_lexer": "ipython3",
   "version": "3.9.18"
  }
 },
 "nbformat": 4,
 "nbformat_minor": 2
}
