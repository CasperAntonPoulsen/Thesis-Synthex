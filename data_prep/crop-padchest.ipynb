{
 "cells": [
  {
   "cell_type": "code",
   "execution_count": 3,
   "metadata": {},
   "outputs": [],
   "source": [
    "import pandas as pd\n",
    "from PIL import Image\n",
    "import cv2\n",
    "import numpy as np\n",
    "import random\n",
    "import os"
   ]
  },
  {
   "cell_type": "code",
   "execution_count": 12,
   "metadata": {},
   "outputs": [],
   "source": [
    "def rle2mask(mask_rle: str, label=1, shape=(3520,4280)):\n",
    "    \"\"\"\n",
    "    mask_rle: run-length as string formatted (start length)\n",
    "    shape: (height,width) of array to return\n",
    "    Returns numpy array, 1 - mask, 0 - background\n",
    "\n",
    "    \"\"\"\n",
    "    s = mask_rle.split()\n",
    "    starts, lengths = [np.asarray(x, dtype=int) for x in (s[0:][::2], s[1:][::2])]\n",
    "    starts -= 1\n",
    "    ends = starts + lengths\n",
    "\n",
    "    img = np.zeros(shape[0] * shape[1], dtype=np.uint8)\n",
    "    for lo, hi in zip(starts, ends):\n",
    "        img[lo:hi] = label\n",
    "    return img.reshape(shape)# Needed to align to RLE direction\n",
    "\n",
    "\n",
    "def mask2rle(img):\n",
    "    \"\"\"\n",
    "    img: numpy array, 1 - mask, 0 - background\n",
    "    Returns run length as string formatted\n",
    "    \"\"\"\n",
    "    pixels = img.flatten()\n",
    "    pixels = np.concatenate([[0], pixels, [0]])\n",
    "    runs = np.where(pixels[1:] != pixels[:-1])[0] + 1\n",
    "    runs[1::2] -= runs[::2]\n",
    "    return ' '.join(str(x) for x in runs)\n",
    "\n",
    "def decode_both_lungs(row, label=1):\n",
    "\n",
    "    right = rle2mask(\n",
    "        mask_rle=row[\"Right Lung\"],\n",
    "        label=label,\n",
    "        shape=(int(row[\"Height\"]),int(row[\"Width\"]))\n",
    "    )\n",
    "\n",
    "    left = rle2mask(\n",
    "        mask_rle=row[\"Left Lung\"],\n",
    "        label=label,\n",
    "        shape=(int(row[\"Height\"]),int(row[\"Width\"]))\n",
    "    )\n",
    "\n",
    "    return right + left\n",
    "\n",
    "\n",
    "def bounding_box(image, label=1):\n",
    "    _image = image.copy()\n",
    "    segmentation = np.where(_image == label)\n",
    "    padding = random.randint(100,200)\n",
    "\n",
    "    if len(segmentation) != 0 and len(segmentation[1]) != 0 and len(segmentation[0]) != 0:\n",
    "        x_min = max(int(np.min(segmentation[1]) - padding), 0)\n",
    "        x_max = min(int(np.max(segmentation[1]) + padding), len(segmentation[1])-1)\n",
    "        y_min = max(int(np.min(segmentation[0]) - padding), 0)\n",
    "        y_max = min(int(np.max(segmentation[0]) + padding), len(segmentation[0])-1)\n",
    "\n",
    "\n",
    "    return x_min, y_min , x_max, y_max\n",
    "\n",
    "def expand2square(pil_img, background_color):\n",
    "    width, height = pil_img.size\n",
    "    if width == height:\n",
    "        return pil_img\n",
    "    elif width > height:\n",
    "        result = Image.new(pil_img.mode, (width, width), background_color)\n",
    "        result.paste(pil_img, (0, (width - height) // 2))\n",
    "        return result\n",
    "    else:\n",
    "        result = Image.new(pil_img.mode, (height, height), background_color)\n",
    "        result.paste(pil_img, ((height - width) // 2, 0))\n",
    "        return result\n",
    "\n",
    "def crop_and_resize(image, patient_record,target_size):\n",
    "    mask = decode_both_lungs(patient_record)\n",
    "    bbox = bounding_box(mask)\n",
    "\n",
    "    cropped_image = image.crop(bbox)\n",
    "    cropped_image.thumbnail(target_size)\n",
    "\n",
    "    cropped_resized_image = expand2square(cropped_image, 0)\n",
    "\n",
    "    return cropped_resized_image"
   ]
  },
  {
   "cell_type": "code",
   "execution_count": 4,
   "metadata": {},
   "outputs": [],
   "source": [
    "mask_dir = \"/home/data_shares/purrlab/physionet.org/files/chexmask-cxr-segmentation-data/0.2/OriginalResolution/\"\n",
    "input_dir = \"/home/data_shares/purrlab/padchest/\"\n",
    "output_dir = \"/home/caap/Thesis-Synthex/data/padchest_cropped/\""
   ]
  },
  {
   "cell_type": "code",
   "execution_count": 5,
   "metadata": {},
   "outputs": [
    {
     "name": "stderr",
     "output_type": "stream",
     "text": [
      "/tmp/ipykernel_34418/746268768.py:1: DtypeWarning: Columns (1,2) have mixed types. Specify dtype option on import or set low_memory=False.\n",
      "  padchest_mask = pd.read_csv(mask_dir + \"Padchest.csv\")\n",
      "/tmp/ipykernel_34418/746268768.py:3: DtypeWarning: Columns (19,20) have mixed types. Specify dtype option on import or set low_memory=False.\n",
      "  padchest_df = pd.read_csv(input_dir+[i for i in files if i.endswith(\".csv\")][0])\n"
     ]
    }
   ],
   "source": [
    "padchest_mask = pd.read_csv(mask_dir + \"Padchest.csv\")\n",
    "files =  os.listdir(input_dir )\n",
    "padchest_df = pd.read_csv(input_dir+[i for i in files if i.endswith(\".csv\")][0])\n"
   ]
  },
  {
   "cell_type": "code",
   "execution_count": 8,
   "metadata": {},
   "outputs": [],
   "source": [
    "padchest_df = padchest_df[padchest_df[\"Projection\"] == \"PA\"]"
   ]
  },
  {
   "cell_type": "code",
   "execution_count": 10,
   "metadata": {},
   "outputs": [],
   "source": [
    "padchest_joined = padchest_df.merge(padchest_mask.dropna(), how = \"inner\", on= \"ImageID\" )"
   ]
  },
  {
   "cell_type": "code",
   "execution_count": 13,
   "metadata": {},
   "outputs": [],
   "source": [
    "patient = padchest_joined.iloc[0]\n",
    "image = Image.open(input_dir + str(patient[\"ImageDir\"]) + \"/\" + patient[\"ImageID\"])"
   ]
  },
  {
   "cell_type": "code",
   "execution_count": 18,
   "metadata": {},
   "outputs": [],
   "source": []
  }
 ],
 "metadata": {
  "kernelspec": {
   "display_name": "base",
   "language": "python",
   "name": "python3"
  },
  "language_info": {
   "codemirror_mode": {
    "name": "ipython",
    "version": 3
   },
   "file_extension": ".py",
   "mimetype": "text/x-python",
   "name": "python",
   "nbconvert_exporter": "python",
   "pygments_lexer": "ipython3",
   "version": "3.1.undefined"
  }
 },
 "nbformat": 4,
 "nbformat_minor": 2
}
