{
 "cells": [
  {
   "cell_type": "code",
   "execution_count": 11,
   "metadata": {},
   "outputs": [],
   "source": [
    "import pandas as pd\n",
    "import os\n",
    "import shutil"
   ]
  },
  {
   "cell_type": "code",
   "execution_count": 3,
   "metadata": {},
   "outputs": [],
   "source": [
    "base_path = \"/dtu/p1/johlau/Thesis-Synthex/\"\n",
    "data_path = \"data/LIDC-IDRI-raw/\"\n",
    "output_path = \"data/LIDC-IDRI/\""
   ]
  },
  {
   "cell_type": "code",
   "execution_count": 4,
   "metadata": {},
   "outputs": [],
   "source": [
    "files = os.listdir(base_path + data_path)"
   ]
  },
  {
   "cell_type": "code",
   "execution_count": 5,
   "metadata": {},
   "outputs": [],
   "source": [
    "df_metadata = pd.read_csv(base_path + data_path + [file for file in files if file.endswith(\".csv\")][-1])"
   ]
  },
  {
   "cell_type": "code",
   "execution_count": 14,
   "metadata": {},
   "outputs": [],
   "source": [
    "for idx in list(df_metadata[\"PatientID\"].drop_duplicates()):\n",
    "\n",
    "    if not os.path.exists(base_path + output_path + idx):\n",
    "        os.mkdir(base_path + output_path + idx)\n",
    "\n",
    "    for series_instance in df_metadata[df_metadata[\"PatientID\"] == idx][\"SeriesInstanceUID\"]:\n",
    "\n",
    "        if os.path.exists(base_path + output_path + idx + \"/\" + series_instance):\n",
    "            os.rmdir(base_path + output_path + idx + \"/\" + series_instance)\n",
    "\n",
    "\n",
    "        shutil.copytree(\n",
    "            src=base_path + data_path + \"/\" + series_instance,\n",
    "            dst=base_path + output_path + idx + \"/\" + series_instance\n",
    "        )\n",
    "        #print(base_path + data_path + \"/\" + series_instance)\n",
    "        #print(base_path + output_path + idx + \"/\" + series_instance)    \n",
    "\n"
   ]
  },
  {
   "cell_type": "code",
   "execution_count": 8,
   "metadata": {},
   "outputs": [
    {
     "data": {
      "text/plain": [
       "1388     1.3.6.1.4.1.14519.5.2.1.6279.6001.332510758903...\n",
       "13601    1.2.276.0.7230010.3.1.3.0.70013.1553357200.955406\n",
       "13609    1.2.276.0.7230010.3.1.3.0.70023.1553357214.308075\n",
       "13804      1.2.276.0.7230010.3.1.3.0.70007.1553357193.9882\n",
       "13805    1.2.276.0.7230010.3.1.3.0.70011.1553357198.283840\n",
       "13806    1.2.276.0.7230010.3.1.3.0.70009.1553357195.634634\n",
       "13808    1.2.276.0.7230010.3.1.3.0.70015.1553357203.617141\n",
       "13809    1.2.276.0.7230010.3.1.3.0.70021.1553357211.593889\n",
       "13810    1.2.276.0.7230010.3.1.3.0.70019.1553357208.991295\n",
       "13811    1.2.276.0.7230010.3.1.3.0.70017.1553357206.308010\n",
       "13815    1.2.276.0.7230010.3.1.3.0.70025.1553357216.940232\n",
       "13818    1.2.276.0.7230010.3.1.3.0.70027.1553357219.706934\n",
       "15073    1.2.276.0.7230010.3.1.3.0.70010.1553357196.917780\n",
       "15076    1.2.276.0.7230010.3.1.3.0.70008.1553357194.289235\n",
       "15078    1.2.276.0.7230010.3.1.3.0.70020.1553357210.270025\n",
       "15080    1.2.276.0.7230010.3.1.3.0.70018.1553357207.570363\n",
       "15085    1.2.276.0.7230010.3.1.3.0.70028.1553357221.100731\n",
       "15093    1.2.276.0.7230010.3.1.3.0.70012.1553357199.544526\n",
       "15094    1.2.276.0.7230010.3.1.3.0.70014.1553357202.214230\n",
       "15096    1.2.276.0.7230010.3.1.3.0.70016.1553357204.879758\n",
       "15098    1.2.276.0.7230010.3.1.3.0.70022.1553357212.876294\n",
       "15099    1.2.276.0.7230010.3.1.3.0.70024.1553357215.583403\n",
       "15100    1.2.276.0.7230010.3.1.3.0.70026.1553357218.308610\n",
       "Name: SeriesInstanceUID, dtype: object"
      ]
     },
     "execution_count": 8,
     "metadata": {},
     "output_type": "execute_result"
    }
   ],
   "source": [
    "df_metadata[df_metadata[\"PatientID\"] == idx][\"SeriesInstanceUID\"]"
   ]
  }
 ],
 "metadata": {
  "kernelspec": {
   "display_name": "Python 3",
   "language": "python",
   "name": "python3"
  },
  "language_info": {
   "codemirror_mode": {
    "name": "ipython",
    "version": 3
   },
   "file_extension": ".py",
   "mimetype": "text/x-python",
   "name": "python",
   "nbconvert_exporter": "python",
   "pygments_lexer": "ipython3",
   "version": "3.6.8"
  }
 },
 "nbformat": 4,
 "nbformat_minor": 2
}
