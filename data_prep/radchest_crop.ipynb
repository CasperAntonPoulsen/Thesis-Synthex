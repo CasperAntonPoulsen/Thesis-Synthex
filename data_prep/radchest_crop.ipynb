{
 "cells": [
  {
   "cell_type": "code",
   "execution_count": 1,
   "metadata": {},
   "outputs": [],
   "source": [
    "import pandas as pd\n",
    "from PIL import Image\n",
    "import numpy as np\n",
    "import random\n",
    "import os\n",
    "from tqdm import tqdm"
   ]
  },
  {
   "cell_type": "code",
   "execution_count": 2,
   "metadata": {},
   "outputs": [],
   "source": [
    "def expand2square(pil_img, background_color):\n",
    "    width, height = pil_img.size\n",
    "    if width == height:\n",
    "        return pil_img\n",
    "    elif width > height:\n",
    "        result = Image.new(pil_img.mode, (width, width), background_color)\n",
    "        result.paste(pil_img, (0, (width - height) // 2))\n",
    "        return result\n",
    "    else:\n",
    "        result = Image.new(pil_img.mode, (height, height), background_color)\n",
    "        result.paste(pil_img, ((height - width) // 2, 0))\n",
    "        return result"
   ]
  },
  {
   "cell_type": "code",
   "execution_count": 3,
   "metadata": {},
   "outputs": [
    {
     "name": "stderr",
     "output_type": "stream",
     "text": [
      "100%|██████████| 1694/1694 [05:59<00:00,  4.71it/s]\n"
     ]
    }
   ],
   "source": [
    "center_drr_path = \"/dtu/p1/johlau/Thesis-Synthex/data/RAD-ChestCT-DRR/\"\n",
    "center_output_dir = \"/dtu/p1/johlau/Thesis-Synthex/synthex/data/trainA/\"\n",
    "center_drr_images = os.listdir(center_drr_path)\n",
    "\n",
    "for i in tqdm(range(len(center_drr_images))):\n",
    "    image = Image.open(center_drr_path + center_drr_images[i])\n",
    "    cropped_image = image.crop((50,275,2200,2200))\n",
    "    cropped_image.thumbnail((1024,1024))\n",
    "    cropped_resized_image = expand2square(cropped_image, 0)\n",
    "    cropped_resized_image.save(center_output_dir + center_drr_images[i])"
   ]
  },
  {
   "cell_type": "code",
   "execution_count": 8,
   "metadata": {},
   "outputs": [],
   "source": [
    "center_drr_path = \"/dtu/p1/johlau/Thesis-Synthex/data/RAD-ChestCT-DRR/\"\n",
    "angled_drr_path = \"/dtu/p1/johlau/Thesis-Synthex/data/RAD-ChestCT-DRR-angled/\""
   ]
  },
  {
   "cell_type": "code",
   "execution_count": 4,
   "metadata": {},
   "outputs": [],
   "source": [
    "center_output_dir = \"/dtu/p1/johlau/Thesis-Synthex/data/RAD-ChestCT-DRR-CROPPED/\"\n",
    "angled_output_dir = \"/dtu/p1/johlau/Thesis-Synthex/data/RAD-ChestCT-DRR-angled-CROPPED/\""
   ]
  },
  {
   "cell_type": "code",
   "execution_count": 5,
   "metadata": {},
   "outputs": [],
   "source": [
    "center_drr_images = os.listdir(center_drr_path)\n",
    "angled_drr_images = os.listdir(angled_drr_path)"
   ]
  },
  {
   "cell_type": "code",
   "execution_count": 54,
   "metadata": {},
   "outputs": [
    {
     "name": "stderr",
     "output_type": "stream",
     "text": [
      "100%|██████████| 1694/1694 [02:53<00:00,  9.76it/s]\n"
     ]
    }
   ],
   "source": [
    "for i in tqdm(range(len(center_drr_images))):\n",
    "    image = Image.open(center_drr_path + center_drr_images[i])\n",
    "    cropped_image = image.crop((50,275,2200,2200))\n",
    "    cropped_image.thumbnail((512,512))\n",
    "    cropped_resized_image = expand2square(cropped_image, 0)\n",
    "    cropped_resized_image.save(center_output_dir + center_drr_images[i])"
   ]
  },
  {
   "cell_type": "code",
   "execution_count": 55,
   "metadata": {},
   "outputs": [
    {
     "name": "stderr",
     "output_type": "stream",
     "text": [
      "100%|██████████| 15246/15246 [27:04<00:00,  9.39it/s]\n"
     ]
    }
   ],
   "source": [
    "for i in tqdm(range(len(angled_drr_images))):\n",
    "    image = Image.open(angled_drr_path + angled_drr_images[i])\n",
    "    cropped_image = image.crop((50,100,2450,2400))\n",
    "    cropped_image.thumbnail((512,512))\n",
    "    cropped_resized_image = expand2square(cropped_image, 0)\n",
    "    cropped_resized_image.save(angled_output_dir + angled_drr_images[i])"
   ]
  },
  {
   "cell_type": "code",
   "execution_count": null,
   "metadata": {},
   "outputs": [],
   "source": []
  }
 ],
 "metadata": {
  "kernelspec": {
   "display_name": ".venv",
   "language": "python",
   "name": "python3"
  },
  "language_info": {
   "codemirror_mode": {
    "name": "ipython",
    "version": 3
   },
   "file_extension": ".py",
   "mimetype": "text/x-python",
   "name": "python",
   "nbconvert_exporter": "python",
   "pygments_lexer": "ipython3",
   "version": "3.9.10"
  }
 },
 "nbformat": 4,
 "nbformat_minor": 2
}
