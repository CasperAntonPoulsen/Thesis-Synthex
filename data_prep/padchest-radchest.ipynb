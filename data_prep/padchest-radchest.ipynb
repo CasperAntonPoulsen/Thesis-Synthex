{
 "cells": [
  {
   "cell_type": "code",
   "execution_count": 5,
   "metadata": {},
   "outputs": [],
   "source": [
    "import pandas as pd\n",
    "import os\n",
    "import json\n",
    "import ast\n",
    "import numpy as np"
   ]
  },
  {
   "cell_type": "code",
   "execution_count": 6,
   "metadata": {},
   "outputs": [],
   "source": [
    "padchest_df = pd.read_csv(\"/dtu/p1/johlau/Thesis-Synthex/data/padchest/preprocessed_df.csv\")"
   ]
  },
  {
   "cell_type": "code",
   "execution_count": 7,
   "metadata": {},
   "outputs": [],
   "source": [
    "df_train = pd.read_csv(\"/dtu/p1/johlau/Thesis-Synthex/data/RAD-ChestCT/imgtrain_Abnormality_and_Location_Labels.csv\")\n",
    "df_valid = pd.read_csv(\"/dtu/p1/johlau/Thesis-Synthex/data/RAD-ChestCT/imgvalid_Abnormality_and_Location_Labels.csv\")\n",
    "df_test = pd.read_csv(\"/dtu/p1/johlau/Thesis-Synthex/data/RAD-ChestCT/imgtest_Abnormality_and_Location_Labels.csv\")\n",
    "\n",
    "radchest_df = pd.concat((df_train,df_valid,df_test)).reset_index(drop=True)"
   ]
  },
  {
   "cell_type": "code",
   "execution_count": 8,
   "metadata": {},
   "outputs": [],
   "source": [
    "padchest_df[\"Label_list\"] = padchest_df[\"Labels\"].apply(lambda x : ast.literal_eval(x))"
   ]
  },
  {
   "cell_type": "code",
   "execution_count": 9,
   "metadata": {},
   "outputs": [
    {
     "data": {
      "text/plain": [
       "0                                                  [normal]\n",
       "1         [kyphosis, ground glass pattern, pseudonodule,...\n",
       "2                                         [chronic changes]\n",
       "3         [interstitial pattern, unchanged, alveolar pat...\n",
       "4         [pleural effusion, suture material, apical ple...\n",
       "                                ...                        \n",
       "109039            [costophrenic angle blunting, copd signs]\n",
       "109040                                             [normal]\n",
       "109041                        [endotracheal tube, nsg tube]\n",
       "109042                                             [normal]\n",
       "109043                                          [pneumonia]\n",
       "Name: Label_list, Length: 109044, dtype: object"
      ]
     },
     "execution_count": 9,
     "metadata": {},
     "output_type": "execute_result"
    }
   ],
   "source": [
    "padchest_df[\"Label_list\"]"
   ]
  },
  {
   "cell_type": "code",
   "execution_count": null,
   "metadata": {},
   "outputs": [],
   "source": []
  },
  {
   "cell_type": "code",
   "execution_count": 10,
   "metadata": {},
   "outputs": [],
   "source": [
    "padchest_labels = [\n",
    "    'cardiomegaly',\n",
    "    'pleural effusion',\n",
    "    \"pneumonia\",\n",
    "    'pneumothorax',\n",
    "    'atelectasis'\n",
    "]\n",
    "\n",
    "radchest_labels = [\n",
    "    'cardiomegaly',\n",
    "    'pleural_effusion',\n",
    "    \"pneumonia\",\n",
    "    'pneumothorax',\n",
    "    'atelectasis'\n",
    "]"
   ]
  },
  {
   "cell_type": "code",
   "execution_count": 11,
   "metadata": {},
   "outputs": [],
   "source": [
    "padchest_counts = {\n",
    "    'cardiomegaly':0,\n",
    "    'pleural effusion':0,\n",
    "    \"pneumonia\":0,\n",
    "    'pneumothorax':0,\n",
    "    'atelectasis':0\n",
    "}\n",
    "\n",
    "radchest_counts = {\n",
    "    'cardiomegaly':0,\n",
    "    'pleural_effusion':0,\n",
    "    \"pneumonia\":0,\n",
    "    'pneumothorax':0,\n",
    "    'atelectasis':0\n",
    "}"
   ]
  },
  {
   "cell_type": "code",
   "execution_count": 12,
   "metadata": {},
   "outputs": [
    {
     "name": "stdout",
     "output_type": "stream",
     "text": [
      "{'cardiomegaly': 394, 'pleural_effusion': 727, 'pneumonia': 196, 'pneumothorax': 126, 'atelectasis': 1082}\n"
     ]
    }
   ],
   "source": [
    "label_list = list()\n",
    "label_location = [i for i in list(radchest_df.columns)[1:] if i.split(\"*\")[0] in radchest_labels]\n",
    "\n",
    "for i in range(len(radchest_df)):\n",
    "\n",
    "    key_values = radchest_df.loc[i][radchest_df.loc[i]==1]\n",
    "    valid = False\n",
    "\n",
    "    for key in key_values.keys():\n",
    "        if key in label_location:\n",
    "            valid = True\n",
    "    \n",
    "    if valid:\n",
    "        label_list.append(key_values)\n",
    "\n",
    "\n",
    "for i in range(len(label_list)):\n",
    "    key_labels = list(set([i.split(\"*\")[0] for i in label_list[i].keys()]))\n",
    "    for label in radchest_labels:\n",
    "        if label in key_labels:\n",
    "            radchest_counts[label] += 1\n",
    "\n",
    "print(radchest_counts)"
   ]
  },
  {
   "cell_type": "code",
   "execution_count": 13,
   "metadata": {},
   "outputs": [
    {
     "name": "stdout",
     "output_type": "stream",
     "text": [
      "{'cardiomegaly': 9670, 'pleural effusion': 6766, 'pneumonia': 4995, 'pneumothorax': 383, 'atelectasis': 2146}\n"
     ]
    }
   ],
   "source": [
    "for i in range(len(padchest_df[\"Label_list\"])):\n",
    "    for label in padchest_labels:\n",
    "        if label in padchest_df[\"Label_list\"][i]:\n",
    "            padchest_counts[label] += 1\n",
    "\n",
    "print(padchest_counts)"
   ]
  },
  {
   "cell_type": "code",
   "execution_count": 14,
   "metadata": {},
   "outputs": [
    {
     "data": {
      "text/plain": [
       "{'cardiomegaly': 9670,\n",
       " 'pleural effusion': 6766,\n",
       " 'pneumonia': 4995,\n",
       " 'pneumothorax': 383,\n",
       " 'atelectasis': 2146}"
      ]
     },
     "execution_count": 14,
     "metadata": {},
     "output_type": "execute_result"
    }
   ],
   "source": [
    "padchest_counts"
   ]
  },
  {
   "cell_type": "code",
   "execution_count": 15,
   "metadata": {},
   "outputs": [],
   "source": [
    "radchest_counts[\"pleural effusion\"] =radchest_counts[\"pleural_effusion\"]"
   ]
  },
  {
   "cell_type": "code",
   "execution_count": 16,
   "metadata": {},
   "outputs": [],
   "source": [
    "padchest_df =  padchest_df[padchest_df[\"Projection\"] == \"PA\"]"
   ]
  },
  {
   "cell_type": "code",
   "execution_count": 17,
   "metadata": {},
   "outputs": [
    {
     "name": "stdout",
     "output_type": "stream",
     "text": [
      "cardiomegaly padchest: 9670, enritched: 10064, percentage increase: 4.07%\n",
      "pleural effusion padchest: 6766, enritched: 7493, percentage increase: 10.74%\n",
      "pneumonia padchest: 4995, enritched: 5191, percentage increase: 3.92%\n",
      "pneumothorax padchest: 383, enritched: 509, percentage increase: 32.9%\n",
      "atelectasis padchest: 2146, enritched: 3228, percentage increase: 50.42%\n"
     ]
    }
   ],
   "source": [
    "for label in padchest_counts.keys():\n",
    "    percentage_increase = np.round((((padchest_counts[label] + radchest_counts[label])/padchest_counts[label])-1)*100, 2)\n",
    "    print(f\"{label} padchest: {padchest_counts[label]}, enritched: {padchest_counts[label] + radchest_counts[label]}, percentage increase: {percentage_increase}%\") "
   ]
  },
  {
   "cell_type": "code",
   "execution_count": 18,
   "metadata": {},
   "outputs": [],
   "source": [
    "chexpert_counts = {\n",
    "    'cardiomegaly':23002,\n",
    "    'pleural effusion':75696,\n",
    "    \"pneumonia\":4576,\n",
    "    'pneumothorax':17313,\n",
    "    'atelectasis':29333,\n",
    "    'total':187641\n",
    "}"
   ]
  },
  {
   "cell_type": "code",
   "execution_count": 19,
   "metadata": {},
   "outputs": [
    {
     "name": "stdout",
     "output_type": "stream",
     "text": [
      "\\begin{tabular}{lrrrrrr}\n",
      "\\toprule\n",
      "Label & padchest & radchest & padchest+radchest & percentage_increase & validation (chexpert 30%) & test (chexpert 70%) \\\\\n",
      "\\midrule\n",
      "cardiomegaly & 9670 & 394 & 10064 & 4.070000 & 6900 & 16101 \\\\\n",
      "pleural effusion & 6766 & 727 & 7493 & 10.740000 & 22708 & 52987 \\\\\n",
      "pneumonia & 4995 & 196 & 5191 & 3.920000 & 1372 & 3203 \\\\\n",
      "pneumothorax & 383 & 126 & 509 & 32.900000 & 5193 & 12119 \\\\\n",
      "atelectasis & 2146 & 1082 & 3228 & 50.420000 & 8799 & 20533 \\\\\n",
      "total & 90994 & 1694 & 92688 & 1.860000 & 56292 & 131348 \\\\\n",
      "\\bottomrule\n",
      "\\end{tabular}\n",
      "\n"
     ]
    }
   ],
   "source": [
    "experiment_list = list()\n",
    "\n",
    "for label in padchest_counts.keys():\n",
    "    percentage_increase = np.round((((padchest_counts[label] + radchest_counts[label])/padchest_counts[label])-1)*100, 2)\n",
    "    \n",
    "    experiment_list.append([label, padchest_counts[label], radchest_counts[label], padchest_counts[label] + radchest_counts[label], percentage_increase, chexpert_counts[label]])\n",
    "    \n",
    "    \n",
    "    \n",
    "    #print(f\"{label} padchest: {padchest_counts[label]}, enritched: {padchest_counts[label] + radchest_counts[label]}, percentage increase: {percentage_increase}%\") \n",
    "\n",
    "percentage_increase = np.round((((len(padchest_df) + len(label_list))/len(padchest_df))-1)*100, 2)\n",
    "experiment_list.append([\"total\", len(padchest_df), len(label_list), len(padchest_df) + len(label_list), percentage_increase, chexpert_counts[\"total\"]])\n",
    "\n",
    "experiment_df = pd.DataFrame(experiment_list, columns=[\"Label\",\"padchest\", \"radchest\",\"padchest+radchest\",\"percentage_increase\",\"chexpert\"])\n",
    "experiment_df[\"validation (chexpert 30%)\"] = experiment_df[\"chexpert\"].apply(lambda x: int(x*0.3))\n",
    "experiment_df[\"test (chexpert 70%)\"] = experiment_df[\"chexpert\"].apply(lambda x: int(x*0.7))\n",
    "\n",
    "print(experiment_df[['Label', 'padchest', 'radchest', 'padchest+radchest',\n",
    "       'percentage_increase', 'validation (chexpert 30%)',\n",
    "       'test (chexpert 70%)']].to_latex(index=False))"
   ]
  },
  {
   "cell_type": "code",
   "execution_count": 20,
   "metadata": {},
   "outputs": [
    {
     "data": {
      "text/html": [
       "<div>\n",
       "<style scoped>\n",
       "    .dataframe tbody tr th:only-of-type {\n",
       "        vertical-align: middle;\n",
       "    }\n",
       "\n",
       "    .dataframe tbody tr th {\n",
       "        vertical-align: top;\n",
       "    }\n",
       "\n",
       "    .dataframe thead th {\n",
       "        text-align: right;\n",
       "    }\n",
       "</style>\n",
       "<table border=\"1\" class=\"dataframe\">\n",
       "  <thead>\n",
       "    <tr style=\"text-align: right;\">\n",
       "      <th></th>\n",
       "      <th>Label</th>\n",
       "      <th>padchest</th>\n",
       "      <th>radchest</th>\n",
       "      <th>padchest+radchest</th>\n",
       "      <th>percentage_increase</th>\n",
       "      <th>chexpert</th>\n",
       "      <th>validation (chexpert 30%)</th>\n",
       "      <th>test (chexpert 70%)</th>\n",
       "    </tr>\n",
       "  </thead>\n",
       "  <tbody>\n",
       "    <tr>\n",
       "      <th>0</th>\n",
       "      <td>cardiomegaly</td>\n",
       "      <td>9670</td>\n",
       "      <td>394</td>\n",
       "      <td>10064</td>\n",
       "      <td>4.07</td>\n",
       "      <td>23002</td>\n",
       "      <td>6900</td>\n",
       "      <td>16101</td>\n",
       "    </tr>\n",
       "    <tr>\n",
       "      <th>1</th>\n",
       "      <td>pleural effusion</td>\n",
       "      <td>6766</td>\n",
       "      <td>727</td>\n",
       "      <td>7493</td>\n",
       "      <td>10.74</td>\n",
       "      <td>75696</td>\n",
       "      <td>22708</td>\n",
       "      <td>52987</td>\n",
       "    </tr>\n",
       "    <tr>\n",
       "      <th>2</th>\n",
       "      <td>pneumonia</td>\n",
       "      <td>4995</td>\n",
       "      <td>196</td>\n",
       "      <td>5191</td>\n",
       "      <td>3.92</td>\n",
       "      <td>4576</td>\n",
       "      <td>1372</td>\n",
       "      <td>3203</td>\n",
       "    </tr>\n",
       "    <tr>\n",
       "      <th>3</th>\n",
       "      <td>pneumothorax</td>\n",
       "      <td>383</td>\n",
       "      <td>126</td>\n",
       "      <td>509</td>\n",
       "      <td>32.90</td>\n",
       "      <td>17313</td>\n",
       "      <td>5193</td>\n",
       "      <td>12119</td>\n",
       "    </tr>\n",
       "    <tr>\n",
       "      <th>4</th>\n",
       "      <td>atelectasis</td>\n",
       "      <td>2146</td>\n",
       "      <td>1082</td>\n",
       "      <td>3228</td>\n",
       "      <td>50.42</td>\n",
       "      <td>29333</td>\n",
       "      <td>8799</td>\n",
       "      <td>20533</td>\n",
       "    </tr>\n",
       "    <tr>\n",
       "      <th>5</th>\n",
       "      <td>total</td>\n",
       "      <td>90994</td>\n",
       "      <td>1694</td>\n",
       "      <td>92688</td>\n",
       "      <td>1.86</td>\n",
       "      <td>187641</td>\n",
       "      <td>56292</td>\n",
       "      <td>131348</td>\n",
       "    </tr>\n",
       "  </tbody>\n",
       "</table>\n",
       "</div>"
      ],
      "text/plain": [
       "              Label  padchest  radchest  padchest+radchest  \\\n",
       "0      cardiomegaly      9670       394              10064   \n",
       "1  pleural effusion      6766       727               7493   \n",
       "2         pneumonia      4995       196               5191   \n",
       "3      pneumothorax       383       126                509   \n",
       "4       atelectasis      2146      1082               3228   \n",
       "5             total     90994      1694              92688   \n",
       "\n",
       "   percentage_increase  chexpert  validation (chexpert 30%)  \\\n",
       "0                 4.07     23002                       6900   \n",
       "1                10.74     75696                      22708   \n",
       "2                 3.92      4576                       1372   \n",
       "3                32.90     17313                       5193   \n",
       "4                50.42     29333                       8799   \n",
       "5                 1.86    187641                      56292   \n",
       "\n",
       "   test (chexpert 70%)  \n",
       "0                16101  \n",
       "1                52987  \n",
       "2                 3203  \n",
       "3                12119  \n",
       "4                20533  \n",
       "5               131348  "
      ]
     },
     "execution_count": 20,
     "metadata": {},
     "output_type": "execute_result"
    }
   ],
   "source": [
    "experiment_df"
   ]
  },
  {
   "cell_type": "code",
   "execution_count": 22,
   "metadata": {},
   "outputs": [
    {
     "data": {
      "text/html": [
       "<div>\n",
       "<style scoped>\n",
       "    .dataframe tbody tr th:only-of-type {\n",
       "        vertical-align: middle;\n",
       "    }\n",
       "\n",
       "    .dataframe tbody tr th {\n",
       "        vertical-align: top;\n",
       "    }\n",
       "\n",
       "    .dataframe thead th {\n",
       "        text-align: right;\n",
       "    }\n",
       "</style>\n",
       "<table border=\"1\" class=\"dataframe\">\n",
       "  <thead>\n",
       "    <tr style=\"text-align: right;\">\n",
       "      <th></th>\n",
       "      <th>Label</th>\n",
       "      <th>padchest</th>\n",
       "      <th>radchest</th>\n",
       "      <th>padchest+radchest</th>\n",
       "      <th>percentage_increase</th>\n",
       "      <th>chexpert</th>\n",
       "      <th>validation (chexpert 30%)</th>\n",
       "      <th>test (chexpert 70%)</th>\n",
       "    </tr>\n",
       "  </thead>\n",
       "  <tbody>\n",
       "    <tr>\n",
       "      <th>0</th>\n",
       "      <td>cardiomegaly</td>\n",
       "      <td>9670</td>\n",
       "      <td>394</td>\n",
       "      <td>10064</td>\n",
       "      <td>4.07</td>\n",
       "      <td>23002</td>\n",
       "      <td>6900</td>\n",
       "      <td>16101</td>\n",
       "    </tr>\n",
       "    <tr>\n",
       "      <th>1</th>\n",
       "      <td>pleural effusion</td>\n",
       "      <td>6766</td>\n",
       "      <td>727</td>\n",
       "      <td>7493</td>\n",
       "      <td>10.74</td>\n",
       "      <td>75696</td>\n",
       "      <td>22708</td>\n",
       "      <td>52987</td>\n",
       "    </tr>\n",
       "    <tr>\n",
       "      <th>2</th>\n",
       "      <td>pneumonia</td>\n",
       "      <td>4995</td>\n",
       "      <td>196</td>\n",
       "      <td>5191</td>\n",
       "      <td>3.92</td>\n",
       "      <td>4576</td>\n",
       "      <td>1372</td>\n",
       "      <td>3203</td>\n",
       "    </tr>\n",
       "    <tr>\n",
       "      <th>3</th>\n",
       "      <td>pneumothorax</td>\n",
       "      <td>383</td>\n",
       "      <td>126</td>\n",
       "      <td>509</td>\n",
       "      <td>32.90</td>\n",
       "      <td>17313</td>\n",
       "      <td>5193</td>\n",
       "      <td>12119</td>\n",
       "    </tr>\n",
       "    <tr>\n",
       "      <th>4</th>\n",
       "      <td>atelectasis</td>\n",
       "      <td>2146</td>\n",
       "      <td>1082</td>\n",
       "      <td>3228</td>\n",
       "      <td>50.42</td>\n",
       "      <td>29333</td>\n",
       "      <td>8799</td>\n",
       "      <td>20533</td>\n",
       "    </tr>\n",
       "    <tr>\n",
       "      <th>5</th>\n",
       "      <td>total</td>\n",
       "      <td>90994</td>\n",
       "      <td>1694</td>\n",
       "      <td>92688</td>\n",
       "      <td>1.86</td>\n",
       "      <td>187641</td>\n",
       "      <td>56292</td>\n",
       "      <td>131348</td>\n",
       "    </tr>\n",
       "  </tbody>\n",
       "</table>\n",
       "</div>"
      ],
      "text/plain": [
       "              Label  padchest  radchest  padchest+radchest  \\\n",
       "0      cardiomegaly      9670       394              10064   \n",
       "1  pleural effusion      6766       727               7493   \n",
       "2         pneumonia      4995       196               5191   \n",
       "3      pneumothorax       383       126                509   \n",
       "4       atelectasis      2146      1082               3228   \n",
       "5             total     90994      1694              92688   \n",
       "\n",
       "   percentage_increase  chexpert  validation (chexpert 30%)  \\\n",
       "0                 4.07     23002                       6900   \n",
       "1                10.74     75696                      22708   \n",
       "2                 3.92      4576                       1372   \n",
       "3                32.90     17313                       5193   \n",
       "4                50.42     29333                       8799   \n",
       "5                 1.86    187641                      56292   \n",
       "\n",
       "   test (chexpert 70%)  \n",
       "0                16101  \n",
       "1                52987  \n",
       "2                 3203  \n",
       "3                12119  \n",
       "4                20533  \n",
       "5               131348  "
      ]
     },
     "execution_count": 22,
     "metadata": {},
     "output_type": "execute_result"
    }
   ],
   "source": [
    "experiment_df"
   ]
  },
  {
   "cell_type": "code",
   "execution_count": 27,
   "metadata": {},
   "outputs": [
    {
     "data": {
      "text/plain": [
       "0     13610\n",
       "1     14036\n",
       "2      6955\n",
       "3      1643\n",
       "4     12966\n",
       "5    107934\n",
       "dtype: int64"
      ]
     },
     "execution_count": 27,
     "metadata": {},
     "output_type": "execute_result"
    }
   ],
   "source": [
    "experiment_df[\"padchest\"]+experiment_df[\"radchest\"]*10"
   ]
  }
 ],
 "metadata": {
  "kernelspec": {
   "display_name": ".venv",
   "language": "python",
   "name": "python3"
  },
  "language_info": {
   "codemirror_mode": {
    "name": "ipython",
    "version": 3
   },
   "file_extension": ".py",
   "mimetype": "text/x-python",
   "name": "python",
   "nbconvert_exporter": "python",
   "pygments_lexer": "ipython3",
   "version": "3.9.10"
  }
 },
 "nbformat": 4,
 "nbformat_minor": 2
}
