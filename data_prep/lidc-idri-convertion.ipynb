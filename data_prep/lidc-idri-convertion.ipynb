{
 "cells": [
  {
   "cell_type": "code",
   "execution_count": null,
   "metadata": {},
   "outputs": [],
   "source": [
    "import dicom2nifti\n",
    "import pandas as pd\n",
    "import os"
   ]
  },
  {
   "cell_type": "code",
   "execution_count": 46,
   "metadata": {},
   "outputs": [],
   "source": [
    "base_path = \"/dtu/p1/johlau/Thesis-Synthex/\"\n",
    "data_path = \"data/LIDC-IDRI-raw/\"\n",
    "output_path = \"data/LIDC-IDRI-NIFTI/\""
   ]
  },
  {
   "cell_type": "code",
   "execution_count": 47,
   "metadata": {},
   "outputs": [],
   "source": [
    "files = os.listdir(base_path + data_path)"
   ]
  },
  {
   "cell_type": "code",
   "execution_count": 48,
   "metadata": {},
   "outputs": [],
   "source": [
    "df_metadata = pd.read_csv(base_path + data_path + [file for file in files if file.endswith(\".csv\")][-1])"
   ]
  },
  {
   "cell_type": "code",
   "execution_count": 49,
   "metadata": {},
   "outputs": [
    {
     "data": {
      "text/html": [
       "<div>\n",
       "<style scoped>\n",
       "    .dataframe tbody tr th:only-of-type {\n",
       "        vertical-align: middle;\n",
       "    }\n",
       "\n",
       "    .dataframe tbody tr th {\n",
       "        vertical-align: top;\n",
       "    }\n",
       "\n",
       "    .dataframe thead th {\n",
       "        text-align: right;\n",
       "    }\n",
       "</style>\n",
       "<table border=\"1\" class=\"dataframe\">\n",
       "  <thead>\n",
       "    <tr style=\"text-align: right;\">\n",
       "      <th></th>\n",
       "      <th>Unnamed: 0</th>\n",
       "      <th>SeriesInstanceUID</th>\n",
       "      <th>StudyInstanceUID</th>\n",
       "      <th>Modality</th>\n",
       "      <th>SeriesDate</th>\n",
       "      <th>BodyPartExamined</th>\n",
       "      <th>SeriesNumber</th>\n",
       "      <th>AnnotationsFlag</th>\n",
       "      <th>Collection</th>\n",
       "      <th>PatientID</th>\n",
       "      <th>...</th>\n",
       "      <th>ManufacturerModelName</th>\n",
       "      <th>SoftwareVersions</th>\n",
       "      <th>ImageCount</th>\n",
       "      <th>TimeStamp</th>\n",
       "      <th>LicenseName</th>\n",
       "      <th>LicenseURI</th>\n",
       "      <th>CollectionURI</th>\n",
       "      <th>FileSize</th>\n",
       "      <th>SeriesDescription</th>\n",
       "      <th>ProtocolName</th>\n",
       "    </tr>\n",
       "  </thead>\n",
       "  <tbody>\n",
       "    <tr>\n",
       "      <th>0</th>\n",
       "      <td>0</td>\n",
       "      <td>1.3.6.1.4.1.14519.5.2.1.6279.6001.141365756818...</td>\n",
       "      <td>1.3.6.1.4.1.14519.5.2.1.6279.6001.175012972118...</td>\n",
       "      <td>DX</td>\n",
       "      <td>2000-01-01 00:00:00.0</td>\n",
       "      <td>CHEST</td>\n",
       "      <td>3000923.0</td>\n",
       "      <td>True</td>\n",
       "      <td>LIDC-IDRI</td>\n",
       "      <td>LIDC-IDRI-0001</td>\n",
       "      <td>...</td>\n",
       "      <td>Revolution XQi ADS_28.2</td>\n",
       "      <td>Ads Application Package VERSION ADS_28.2</td>\n",
       "      <td>2</td>\n",
       "      <td>2020-02-21 15:12:42.0</td>\n",
       "      <td>Creative Commons Attribution 3.0 Unported License</td>\n",
       "      <td>http://creativecommons.org/licenses/by/3.0/</td>\n",
       "      <td>https://doi.org/10.7937/K9/TCIA.2015.LO9QL9SX</td>\n",
       "      <td>16357620</td>\n",
       "      <td>NaN</td>\n",
       "      <td>NaN</td>\n",
       "    </tr>\n",
       "    <tr>\n",
       "      <th>1</th>\n",
       "      <td>1</td>\n",
       "      <td>1.3.6.1.4.1.14519.5.2.1.6279.6001.179049373636...</td>\n",
       "      <td>1.3.6.1.4.1.14519.5.2.1.6279.6001.298806137288...</td>\n",
       "      <td>CT</td>\n",
       "      <td>2000-01-01 00:00:00.0</td>\n",
       "      <td>CHEST</td>\n",
       "      <td>3000566.0</td>\n",
       "      <td>True</td>\n",
       "      <td>LIDC-IDRI</td>\n",
       "      <td>LIDC-IDRI-0001</td>\n",
       "      <td>...</td>\n",
       "      <td>LightSpeed Plus</td>\n",
       "      <td>LightSpeedApps2.4.2_H2.4M5</td>\n",
       "      <td>133</td>\n",
       "      <td>2020-02-21 15:12:49.0</td>\n",
       "      <td>Creative Commons Attribution 3.0 Unported License</td>\n",
       "      <td>http://creativecommons.org/licenses/by/3.0/</td>\n",
       "      <td>https://doi.org/10.7937/K9/TCIA.2015.LO9QL9SX</td>\n",
       "      <td>70018838</td>\n",
       "      <td>NaN</td>\n",
       "      <td>NaN</td>\n",
       "    </tr>\n",
       "    <tr>\n",
       "      <th>1398</th>\n",
       "      <td>1398</td>\n",
       "      <td>1.2.276.0.7230010.3.1.3.0.89314.1553284067.990548</td>\n",
       "      <td>1.3.6.1.4.1.14519.5.2.1.6279.6001.298806137288...</td>\n",
       "      <td>SEG</td>\n",
       "      <td>2019-03-22 00:00:00.0</td>\n",
       "      <td>CHEST</td>\n",
       "      <td>3000567.0</td>\n",
       "      <td>NaN</td>\n",
       "      <td>LIDC-IDRI</td>\n",
       "      <td>LIDC-IDRI-0001</td>\n",
       "      <td>...</td>\n",
       "      <td>https://github.com/QIICR/dcmqi.git</td>\n",
       "      <td>f86b34f</td>\n",
       "      <td>1</td>\n",
       "      <td>2020-03-06 12:33:03.0</td>\n",
       "      <td>Creative Commons Attribution 3.0 Unported License</td>\n",
       "      <td>http://creativecommons.org/licenses/by/3.0/</td>\n",
       "      <td>https://doi.org/10.7937/TCIA.2018.h7umfurq</td>\n",
       "      <td>270284</td>\n",
       "      <td>Segmentation of Nodule 1 - Annotation Nodule 001</td>\n",
       "      <td>NaN</td>\n",
       "    </tr>\n",
       "    <tr>\n",
       "      <th>1399</th>\n",
       "      <td>1399</td>\n",
       "      <td>1.2.276.0.7230010.3.1.3.0.89316.1553284071.471973</td>\n",
       "      <td>1.3.6.1.4.1.14519.5.2.1.6279.6001.298806137288...</td>\n",
       "      <td>SEG</td>\n",
       "      <td>2019-03-22 00:00:00.0</td>\n",
       "      <td>CHEST</td>\n",
       "      <td>3000569.0</td>\n",
       "      <td>NaN</td>\n",
       "      <td>LIDC-IDRI</td>\n",
       "      <td>LIDC-IDRI-0001</td>\n",
       "      <td>...</td>\n",
       "      <td>https://github.com/QIICR/dcmqi.git</td>\n",
       "      <td>f86b34f</td>\n",
       "      <td>1</td>\n",
       "      <td>2020-03-06 12:33:03.0</td>\n",
       "      <td>Creative Commons Attribution 3.0 Unported License</td>\n",
       "      <td>http://creativecommons.org/licenses/by/3.0/</td>\n",
       "      <td>https://doi.org/10.7937/TCIA.2018.h7umfurq</td>\n",
       "      <td>236826</td>\n",
       "      <td>Segmentation of Nodule 1 - Annotation IL057_12...</td>\n",
       "      <td>NaN</td>\n",
       "    </tr>\n",
       "    <tr>\n",
       "      <th>1400</th>\n",
       "      <td>1400</td>\n",
       "      <td>1.2.276.0.7230010.3.1.3.0.89355.1553284075.626419</td>\n",
       "      <td>1.3.6.1.4.1.14519.5.2.1.6279.6001.298806137288...</td>\n",
       "      <td>SEG</td>\n",
       "      <td>2019-03-22 00:00:00.0</td>\n",
       "      <td>CHEST</td>\n",
       "      <td>3000571.0</td>\n",
       "      <td>NaN</td>\n",
       "      <td>LIDC-IDRI</td>\n",
       "      <td>LIDC-IDRI-0001</td>\n",
       "      <td>...</td>\n",
       "      <td>https://github.com/QIICR/dcmqi.git</td>\n",
       "      <td>f86b34f</td>\n",
       "      <td>1</td>\n",
       "      <td>2020-03-06 12:33:03.0</td>\n",
       "      <td>Creative Commons Attribution 3.0 Unported License</td>\n",
       "      <td>http://creativecommons.org/licenses/by/3.0/</td>\n",
       "      <td>https://doi.org/10.7937/TCIA.2018.h7umfurq</td>\n",
       "      <td>270290</td>\n",
       "      <td>Segmentation of Nodule 1 - Annotation MI014_12127</td>\n",
       "      <td>NaN</td>\n",
       "    </tr>\n",
       "    <tr>\n",
       "      <th>1401</th>\n",
       "      <td>1401</td>\n",
       "      <td>1.2.276.0.7230010.3.1.3.0.89358.1553284079.860324</td>\n",
       "      <td>1.3.6.1.4.1.14519.5.2.1.6279.6001.298806137288...</td>\n",
       "      <td>SEG</td>\n",
       "      <td>2019-03-22 00:00:00.0</td>\n",
       "      <td>CHEST</td>\n",
       "      <td>3000573.0</td>\n",
       "      <td>NaN</td>\n",
       "      <td>LIDC-IDRI</td>\n",
       "      <td>LIDC-IDRI-0001</td>\n",
       "      <td>...</td>\n",
       "      <td>https://github.com/QIICR/dcmqi.git</td>\n",
       "      <td>f86b34f</td>\n",
       "      <td>1</td>\n",
       "      <td>2020-03-06 12:33:03.0</td>\n",
       "      <td>Creative Commons Attribution 3.0 Unported License</td>\n",
       "      <td>http://creativecommons.org/licenses/by/3.0/</td>\n",
       "      <td>https://doi.org/10.7937/TCIA.2018.h7umfurq</td>\n",
       "      <td>303724</td>\n",
       "      <td>Segmentation of Nodule 1 - Annotation 0</td>\n",
       "      <td>NaN</td>\n",
       "    </tr>\n",
       "    <tr>\n",
       "      <th>1403</th>\n",
       "      <td>1403</td>\n",
       "      <td>1.2.276.0.7230010.3.1.3.0.89359.1553284081.678382</td>\n",
       "      <td>1.3.6.1.4.1.14519.5.2.1.6279.6001.298806137288...</td>\n",
       "      <td>SR</td>\n",
       "      <td>2019-03-22 00:00:00.0</td>\n",
       "      <td>NaN</td>\n",
       "      <td>3000574.0</td>\n",
       "      <td>NaN</td>\n",
       "      <td>LIDC-IDRI</td>\n",
       "      <td>LIDC-IDRI-0001</td>\n",
       "      <td>...</td>\n",
       "      <td>https://github.com/QIICR/dcmqi.git</td>\n",
       "      <td>f86b34f</td>\n",
       "      <td>1</td>\n",
       "      <td>2020-03-06 12:33:03.0</td>\n",
       "      <td>Creative Commons Attribution 3.0 Unported License</td>\n",
       "      <td>http://creativecommons.org/licenses/by/3.0/</td>\n",
       "      <td>https://doi.org/10.7937/TCIA.2018.h7umfurq</td>\n",
       "      <td>94706</td>\n",
       "      <td>Nodule 1 - Annotation 0 evaluations</td>\n",
       "      <td>NaN</td>\n",
       "    </tr>\n",
       "    <tr>\n",
       "      <th>1404</th>\n",
       "      <td>1404</td>\n",
       "      <td>1.2.276.0.7230010.3.1.3.0.89356.1553284077.719168</td>\n",
       "      <td>1.3.6.1.4.1.14519.5.2.1.6279.6001.298806137288...</td>\n",
       "      <td>SR</td>\n",
       "      <td>2019-03-22 00:00:00.0</td>\n",
       "      <td>NaN</td>\n",
       "      <td>3000572.0</td>\n",
       "      <td>NaN</td>\n",
       "      <td>LIDC-IDRI</td>\n",
       "      <td>LIDC-IDRI-0001</td>\n",
       "      <td>...</td>\n",
       "      <td>https://github.com/QIICR/dcmqi.git</td>\n",
       "      <td>f86b34f</td>\n",
       "      <td>1</td>\n",
       "      <td>2020-03-06 12:33:03.0</td>\n",
       "      <td>Creative Commons Attribution 3.0 Unported License</td>\n",
       "      <td>http://creativecommons.org/licenses/by/3.0/</td>\n",
       "      <td>https://doi.org/10.7937/TCIA.2018.h7umfurq</td>\n",
       "      <td>94684</td>\n",
       "      <td>Nodule 1 - Annotation MI014_12127 evaluations</td>\n",
       "      <td>NaN</td>\n",
       "    </tr>\n",
       "    <tr>\n",
       "      <th>1405</th>\n",
       "      <td>1405</td>\n",
       "      <td>1.2.276.0.7230010.3.1.3.0.89315.1553284069.532969</td>\n",
       "      <td>1.3.6.1.4.1.14519.5.2.1.6279.6001.298806137288...</td>\n",
       "      <td>SR</td>\n",
       "      <td>2019-03-22 00:00:00.0</td>\n",
       "      <td>NaN</td>\n",
       "      <td>3000568.0</td>\n",
       "      <td>NaN</td>\n",
       "      <td>LIDC-IDRI</td>\n",
       "      <td>LIDC-IDRI-0001</td>\n",
       "      <td>...</td>\n",
       "      <td>https://github.com/QIICR/dcmqi.git</td>\n",
       "      <td>f86b34f</td>\n",
       "      <td>1</td>\n",
       "      <td>2020-03-06 12:33:04.0</td>\n",
       "      <td>Creative Commons Attribution 3.0 Unported License</td>\n",
       "      <td>http://creativecommons.org/licenses/by/3.0/</td>\n",
       "      <td>https://doi.org/10.7937/TCIA.2018.h7umfurq</td>\n",
       "      <td>94682</td>\n",
       "      <td>Nodule 1 - Annotation Nodule 001 evaluations</td>\n",
       "      <td>NaN</td>\n",
       "    </tr>\n",
       "    <tr>\n",
       "      <th>1406</th>\n",
       "      <td>1406</td>\n",
       "      <td>1.2.276.0.7230010.3.1.3.0.89354.1553284073.397598</td>\n",
       "      <td>1.3.6.1.4.1.14519.5.2.1.6279.6001.298806137288...</td>\n",
       "      <td>SR</td>\n",
       "      <td>2019-03-22 00:00:00.0</td>\n",
       "      <td>NaN</td>\n",
       "      <td>3000570.0</td>\n",
       "      <td>NaN</td>\n",
       "      <td>LIDC-IDRI</td>\n",
       "      <td>LIDC-IDRI-0001</td>\n",
       "      <td>...</td>\n",
       "      <td>https://github.com/QIICR/dcmqi.git</td>\n",
       "      <td>f86b34f</td>\n",
       "      <td>1</td>\n",
       "      <td>2020-03-06 12:33:03.0</td>\n",
       "      <td>Creative Commons Attribution 3.0 Unported License</td>\n",
       "      <td>http://creativecommons.org/licenses/by/3.0/</td>\n",
       "      <td>https://doi.org/10.7937/TCIA.2018.h7umfurq</td>\n",
       "      <td>94732</td>\n",
       "      <td>Nodule 1 - Annotation IL057_127364 evaluations</td>\n",
       "      <td>NaN</td>\n",
       "    </tr>\n",
       "  </tbody>\n",
       "</table>\n",
       "<p>10 rows × 21 columns</p>\n",
       "</div>"
      ],
      "text/plain": [
       "      Unnamed: 0                                  SeriesInstanceUID  \\\n",
       "0              0  1.3.6.1.4.1.14519.5.2.1.6279.6001.141365756818...   \n",
       "1              1  1.3.6.1.4.1.14519.5.2.1.6279.6001.179049373636...   \n",
       "1398        1398  1.2.276.0.7230010.3.1.3.0.89314.1553284067.990548   \n",
       "1399        1399  1.2.276.0.7230010.3.1.3.0.89316.1553284071.471973   \n",
       "1400        1400  1.2.276.0.7230010.3.1.3.0.89355.1553284075.626419   \n",
       "1401        1401  1.2.276.0.7230010.3.1.3.0.89358.1553284079.860324   \n",
       "1403        1403  1.2.276.0.7230010.3.1.3.0.89359.1553284081.678382   \n",
       "1404        1404  1.2.276.0.7230010.3.1.3.0.89356.1553284077.719168   \n",
       "1405        1405  1.2.276.0.7230010.3.1.3.0.89315.1553284069.532969   \n",
       "1406        1406  1.2.276.0.7230010.3.1.3.0.89354.1553284073.397598   \n",
       "\n",
       "                                       StudyInstanceUID Modality  \\\n",
       "0     1.3.6.1.4.1.14519.5.2.1.6279.6001.175012972118...       DX   \n",
       "1     1.3.6.1.4.1.14519.5.2.1.6279.6001.298806137288...       CT   \n",
       "1398  1.3.6.1.4.1.14519.5.2.1.6279.6001.298806137288...      SEG   \n",
       "1399  1.3.6.1.4.1.14519.5.2.1.6279.6001.298806137288...      SEG   \n",
       "1400  1.3.6.1.4.1.14519.5.2.1.6279.6001.298806137288...      SEG   \n",
       "1401  1.3.6.1.4.1.14519.5.2.1.6279.6001.298806137288...      SEG   \n",
       "1403  1.3.6.1.4.1.14519.5.2.1.6279.6001.298806137288...       SR   \n",
       "1404  1.3.6.1.4.1.14519.5.2.1.6279.6001.298806137288...       SR   \n",
       "1405  1.3.6.1.4.1.14519.5.2.1.6279.6001.298806137288...       SR   \n",
       "1406  1.3.6.1.4.1.14519.5.2.1.6279.6001.298806137288...       SR   \n",
       "\n",
       "                 SeriesDate BodyPartExamined  SeriesNumber AnnotationsFlag  \\\n",
       "0     2000-01-01 00:00:00.0            CHEST     3000923.0            True   \n",
       "1     2000-01-01 00:00:00.0            CHEST     3000566.0            True   \n",
       "1398  2019-03-22 00:00:00.0            CHEST     3000567.0             NaN   \n",
       "1399  2019-03-22 00:00:00.0            CHEST     3000569.0             NaN   \n",
       "1400  2019-03-22 00:00:00.0            CHEST     3000571.0             NaN   \n",
       "1401  2019-03-22 00:00:00.0            CHEST     3000573.0             NaN   \n",
       "1403  2019-03-22 00:00:00.0              NaN     3000574.0             NaN   \n",
       "1404  2019-03-22 00:00:00.0              NaN     3000572.0             NaN   \n",
       "1405  2019-03-22 00:00:00.0              NaN     3000568.0             NaN   \n",
       "1406  2019-03-22 00:00:00.0              NaN     3000570.0             NaN   \n",
       "\n",
       "     Collection       PatientID  ...               ManufacturerModelName  \\\n",
       "0     LIDC-IDRI  LIDC-IDRI-0001  ...             Revolution XQi ADS_28.2   \n",
       "1     LIDC-IDRI  LIDC-IDRI-0001  ...                     LightSpeed Plus   \n",
       "1398  LIDC-IDRI  LIDC-IDRI-0001  ...  https://github.com/QIICR/dcmqi.git   \n",
       "1399  LIDC-IDRI  LIDC-IDRI-0001  ...  https://github.com/QIICR/dcmqi.git   \n",
       "1400  LIDC-IDRI  LIDC-IDRI-0001  ...  https://github.com/QIICR/dcmqi.git   \n",
       "1401  LIDC-IDRI  LIDC-IDRI-0001  ...  https://github.com/QIICR/dcmqi.git   \n",
       "1403  LIDC-IDRI  LIDC-IDRI-0001  ...  https://github.com/QIICR/dcmqi.git   \n",
       "1404  LIDC-IDRI  LIDC-IDRI-0001  ...  https://github.com/QIICR/dcmqi.git   \n",
       "1405  LIDC-IDRI  LIDC-IDRI-0001  ...  https://github.com/QIICR/dcmqi.git   \n",
       "1406  LIDC-IDRI  LIDC-IDRI-0001  ...  https://github.com/QIICR/dcmqi.git   \n",
       "\n",
       "                              SoftwareVersions ImageCount  \\\n",
       "0     Ads Application Package VERSION ADS_28.2          2   \n",
       "1                   LightSpeedApps2.4.2_H2.4M5        133   \n",
       "1398                                   f86b34f          1   \n",
       "1399                                   f86b34f          1   \n",
       "1400                                   f86b34f          1   \n",
       "1401                                   f86b34f          1   \n",
       "1403                                   f86b34f          1   \n",
       "1404                                   f86b34f          1   \n",
       "1405                                   f86b34f          1   \n",
       "1406                                   f86b34f          1   \n",
       "\n",
       "                  TimeStamp  \\\n",
       "0     2020-02-21 15:12:42.0   \n",
       "1     2020-02-21 15:12:49.0   \n",
       "1398  2020-03-06 12:33:03.0   \n",
       "1399  2020-03-06 12:33:03.0   \n",
       "1400  2020-03-06 12:33:03.0   \n",
       "1401  2020-03-06 12:33:03.0   \n",
       "1403  2020-03-06 12:33:03.0   \n",
       "1404  2020-03-06 12:33:03.0   \n",
       "1405  2020-03-06 12:33:04.0   \n",
       "1406  2020-03-06 12:33:03.0   \n",
       "\n",
       "                                            LicenseName  \\\n",
       "0     Creative Commons Attribution 3.0 Unported License   \n",
       "1     Creative Commons Attribution 3.0 Unported License   \n",
       "1398  Creative Commons Attribution 3.0 Unported License   \n",
       "1399  Creative Commons Attribution 3.0 Unported License   \n",
       "1400  Creative Commons Attribution 3.0 Unported License   \n",
       "1401  Creative Commons Attribution 3.0 Unported License   \n",
       "1403  Creative Commons Attribution 3.0 Unported License   \n",
       "1404  Creative Commons Attribution 3.0 Unported License   \n",
       "1405  Creative Commons Attribution 3.0 Unported License   \n",
       "1406  Creative Commons Attribution 3.0 Unported License   \n",
       "\n",
       "                                       LicenseURI  \\\n",
       "0     http://creativecommons.org/licenses/by/3.0/   \n",
       "1     http://creativecommons.org/licenses/by/3.0/   \n",
       "1398  http://creativecommons.org/licenses/by/3.0/   \n",
       "1399  http://creativecommons.org/licenses/by/3.0/   \n",
       "1400  http://creativecommons.org/licenses/by/3.0/   \n",
       "1401  http://creativecommons.org/licenses/by/3.0/   \n",
       "1403  http://creativecommons.org/licenses/by/3.0/   \n",
       "1404  http://creativecommons.org/licenses/by/3.0/   \n",
       "1405  http://creativecommons.org/licenses/by/3.0/   \n",
       "1406  http://creativecommons.org/licenses/by/3.0/   \n",
       "\n",
       "                                      CollectionURI  FileSize  \\\n",
       "0     https://doi.org/10.7937/K9/TCIA.2015.LO9QL9SX  16357620   \n",
       "1     https://doi.org/10.7937/K9/TCIA.2015.LO9QL9SX  70018838   \n",
       "1398     https://doi.org/10.7937/TCIA.2018.h7umfurq    270284   \n",
       "1399     https://doi.org/10.7937/TCIA.2018.h7umfurq    236826   \n",
       "1400     https://doi.org/10.7937/TCIA.2018.h7umfurq    270290   \n",
       "1401     https://doi.org/10.7937/TCIA.2018.h7umfurq    303724   \n",
       "1403     https://doi.org/10.7937/TCIA.2018.h7umfurq     94706   \n",
       "1404     https://doi.org/10.7937/TCIA.2018.h7umfurq     94684   \n",
       "1405     https://doi.org/10.7937/TCIA.2018.h7umfurq     94682   \n",
       "1406     https://doi.org/10.7937/TCIA.2018.h7umfurq     94732   \n",
       "\n",
       "                                      SeriesDescription ProtocolName  \n",
       "0                                                   NaN          NaN  \n",
       "1                                                   NaN          NaN  \n",
       "1398   Segmentation of Nodule 1 - Annotation Nodule 001          NaN  \n",
       "1399  Segmentation of Nodule 1 - Annotation IL057_12...          NaN  \n",
       "1400  Segmentation of Nodule 1 - Annotation MI014_12127          NaN  \n",
       "1401            Segmentation of Nodule 1 - Annotation 0          NaN  \n",
       "1403                Nodule 1 - Annotation 0 evaluations          NaN  \n",
       "1404      Nodule 1 - Annotation MI014_12127 evaluations          NaN  \n",
       "1405       Nodule 1 - Annotation Nodule 001 evaluations          NaN  \n",
       "1406     Nodule 1 - Annotation IL057_127364 evaluations          NaN  \n",
       "\n",
       "[10 rows x 21 columns]"
      ]
     },
     "execution_count": 49,
     "metadata": {},
     "output_type": "execute_result"
    }
   ],
   "source": [
    "df_metadata[df_metadata[\"PatientID\"] == \"LIDC-IDRI-0001\"]"
   ]
  },
  {
   "cell_type": "markdown",
   "metadata": {},
   "source": []
  },
  {
   "cell_type": "code",
   "execution_count": 50,
   "metadata": {},
   "outputs": [],
   "source": [
    "df_ct = df_metadata[df_metadata[\"Modality\"] == \"CT\"].reset_index(drop=True)"
   ]
  },
  {
   "cell_type": "code",
   "execution_count": null,
   "metadata": {},
   "outputs": [],
   "source": []
  },
  {
   "cell_type": "code",
   "execution_count": 52,
   "metadata": {},
   "outputs": [
    {
     "data": {
      "text/plain": [
       "'1.3.6.1.4.1.14519.5.2.1.6279.6001.156990013635454707781600846659'"
      ]
     },
     "execution_count": 52,
     "metadata": {},
     "output_type": "execute_result"
    }
   ],
   "source": [
    "df_ct.iloc[80][\"SeriesInstanceUID\"]"
   ]
  },
  {
   "cell_type": "code",
   "execution_count": 54,
   "metadata": {},
   "outputs": [],
   "source": [
    "for i in range(0, 10):\n",
    "\n",
    "    dicom2nifti.convert_directory(base_path+data_path+df_ct.iloc[i][\"SeriesInstanceUID\"], base_path+output_path, reorient=False)\n",
    "\n",
    "\n",
    "    file_names = [k for k in os.listdir(base_path+output_path) if not k.startswith(\"LIDC-IDRI\")]\n",
    "    os.rename(base_path+output_path+file_names[0], base_path+output_path+df_ct.iloc[i][\"PatientID\"] + \".nii.gz\")"
   ]
  },
  {
   "cell_type": "code",
   "execution_count": 17,
   "metadata": {},
   "outputs": [],
   "source": [
    "file_names = [k for k in os.listdir(base_path+output_path) if not k.startswith(\"LIDC-IDRI\")]\n",
    "os.rename(base_path+output_path+file_names[0], base_path+output_path+df_ct.iloc[i][\"PatientID\"] + \".nii.gz\")"
   ]
  },
  {
   "cell_type": "code",
   "execution_count": 1,
   "metadata": {},
   "outputs": [],
   "source": [
    "import reorient_nii"
   ]
  },
  {
   "cell_type": "code",
   "execution_count": 55,
   "metadata": {},
   "outputs": [],
   "source": [
    "import nibabel as nib"
   ]
  },
  {
   "cell_type": "code",
   "execution_count": 58,
   "metadata": {},
   "outputs": [],
   "source": [
    "test_file = reorient_nii.load(\"/dtu/p1/johlau/Thesis-Synthex/data/1.nii.gz\")\n",
    "nib.save(test_file, \"/dtu/p1/johlau/Thesis-Synthex/data/1-ras.nii.gz\")"
   ]
  },
  {
   "cell_type": "code",
   "execution_count": 20,
   "metadata": {},
   "outputs": [
    {
     "data": {
      "text/plain": [
       "('L', 'A', 'S')"
      ]
     },
     "execution_count": 20,
     "metadata": {},
     "output_type": "execute_result"
    }
   ],
   "source": [
    "reorient_nii.get_orientation(test_file)"
   ]
  },
  {
   "cell_type": "code",
   "execution_count": 18,
   "metadata": {},
   "outputs": [],
   "source": [
    "test_file  = reorient_nii.reorient(test_file, 'LAS')"
   ]
  },
  {
   "cell_type": "code",
   "execution_count": 9,
   "metadata": {},
   "outputs": [
    {
     "data": {
      "text/plain": [
       "<nibabel.nifti1.Nifti1Image at 0x7fb7cc4d3730>"
      ]
     },
     "execution_count": 9,
     "metadata": {},
     "output_type": "execute_result"
    }
   ],
   "source": [
    "test_file.to"
   ]
  },
  {
   "cell_type": "code",
   "execution_count": 41,
   "metadata": {},
   "outputs": [],
   "source": [
    "nib.save(test_file, \"/dtu/p1/johlau/Thesis-Synthex/data/LIDC-IDRI-NIFTI/LIDC-IDRI-0002.nii.gz\")"
   ]
  },
  {
   "cell_type": "code",
   "execution_count": 40,
   "metadata": {},
   "outputs": [
    {
     "data": {
      "text/plain": [
       "('R', 'A', 'S')"
      ]
     },
     "execution_count": 40,
     "metadata": {},
     "output_type": "execute_result"
    }
   ],
   "source": [
    "nib.aff2axcodes(test_file.affine)"
   ]
  },
  {
   "cell_type": "code",
   "execution_count": 59,
   "metadata": {},
   "outputs": [
    {
     "data": {
      "text/plain": [
       "('L', 'A', 'S')"
      ]
     },
     "execution_count": 59,
     "metadata": {},
     "output_type": "execute_result"
    }
   ],
   "source": [
    "test = nib.load(\"/dtu/p1/johlau/Thesis-Synthex/data/3000550.nii.gz\")\n",
    "nib.aff2axcodes(test.affine)"
   ]
  }
 ],
 "metadata": {
  "kernelspec": {
   "display_name": "Python 3",
   "language": "python",
   "name": "python3"
  },
  "language_info": {
   "codemirror_mode": {
    "name": "ipython",
    "version": 3
   },
   "file_extension": ".py",
   "mimetype": "text/x-python",
   "name": "python",
   "nbconvert_exporter": "python",
   "pygments_lexer": "ipython3",
   "version": "3.9.10"
  }
 },
 "nbformat": 4,
 "nbformat_minor": 2
}
