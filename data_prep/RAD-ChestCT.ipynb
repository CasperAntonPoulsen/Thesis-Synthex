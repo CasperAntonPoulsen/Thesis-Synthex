{
 "cells": [
  {
   "cell_type": "code",
   "execution_count": 1,
   "metadata": {},
   "outputs": [],
   "source": [
    "import os\n",
    "import pandas as pd"
   ]
  },
  {
   "cell_type": "code",
   "execution_count": 2,
   "metadata": {},
   "outputs": [],
   "source": [
    "df_train = pd.read_csv(\"/dtu/p1/johlau/Thesis-Synthex/data/RAD-ChestCT/imgtrain_Abnormality_and_Location_Labels.csv\")\n",
    "df_valid = pd.read_csv(\"/dtu/p1/johlau/Thesis-Synthex/data/RAD-ChestCT/imgvalid_Abnormality_and_Location_Labels.csv\")\n",
    "df_test = pd.read_csv(\"/dtu/p1/johlau/Thesis-Synthex/data/RAD-ChestCT/imgtest_Abnormality_and_Location_Labels.csv\")"
   ]
  },
  {
   "cell_type": "code",
   "execution_count": 3,
   "metadata": {},
   "outputs": [],
   "source": [
    "df = pd.concat((df_train,df_valid,df_test)).reset_index(drop=True)"
   ]
  },
  {
   "cell_type": "code",
   "execution_count": 4,
   "metadata": {},
   "outputs": [],
   "source": [
    "abnormalities = set([i.split(\"*\")[0] for i in df.columns[1:]])"
   ]
  },
  {
   "cell_type": "code",
   "execution_count": 5,
   "metadata": {},
   "outputs": [
    {
     "data": {
      "text/plain": [
       "{'air_trapping',\n",
       " 'airspace_disease',\n",
       " 'aneurysm',\n",
       " 'arthritis',\n",
       " 'aspiration',\n",
       " 'atelectasis',\n",
       " 'atherosclerosis',\n",
       " 'bandlike_or_linear',\n",
       " 'breast_implant',\n",
       " 'breast_surgery',\n",
       " 'bronchial_wall_thickening',\n",
       " 'bronchiectasis',\n",
       " 'bronchiolectasis',\n",
       " 'bronchiolitis',\n",
       " 'bronchitis',\n",
       " 'cabg',\n",
       " 'calcification',\n",
       " 'cancer',\n",
       " 'cardiomegaly',\n",
       " 'catheter_or_port',\n",
       " 'cavitation',\n",
       " 'chest_tube',\n",
       " 'clip',\n",
       " 'congestion',\n",
       " 'consolidation',\n",
       " 'coronary_artery_disease',\n",
       " 'cyst',\n",
       " 'debris',\n",
       " 'deformity',\n",
       " 'density',\n",
       " 'dilation_or_ectasia',\n",
       " 'distention',\n",
       " 'emphysema',\n",
       " 'fibrosis',\n",
       " 'fracture',\n",
       " 'gi_tube',\n",
       " 'granuloma',\n",
       " 'groundglass',\n",
       " 'hardware',\n",
       " 'heart_failure',\n",
       " 'heart_valve_replacement',\n",
       " 'hemothorax',\n",
       " 'hernia',\n",
       " 'honeycombing',\n",
       " 'infection',\n",
       " 'infiltrate',\n",
       " 'inflammation',\n",
       " 'interstitial_lung_disease',\n",
       " 'lesion',\n",
       " 'lucency',\n",
       " 'lung_resection',\n",
       " 'lymphadenopathy',\n",
       " 'mass',\n",
       " 'mucous_plugging',\n",
       " 'nodule',\n",
       " 'nodulegr1cm',\n",
       " 'opacity',\n",
       " 'other_path',\n",
       " 'pacemaker_or_defib',\n",
       " 'pericardial_effusion',\n",
       " 'pericardial_thickening',\n",
       " 'plaque',\n",
       " 'pleural_effusion',\n",
       " 'pleural_thickening',\n",
       " 'pneumonia',\n",
       " 'pneumonitis',\n",
       " 'pneumothorax',\n",
       " 'postsurgical',\n",
       " 'pulmonary_edema',\n",
       " 'reticulation',\n",
       " 'scarring',\n",
       " 'scattered_calc',\n",
       " 'scattered_nod',\n",
       " 'secretion',\n",
       " 'septal_thickening',\n",
       " 'soft_tissue',\n",
       " 'staple',\n",
       " 'stent',\n",
       " 'sternotomy',\n",
       " 'suture',\n",
       " 'tracheal_tube',\n",
       " 'transplant',\n",
       " 'tree_in_bud',\n",
       " 'tuberculosis'}"
      ]
     },
     "execution_count": 5,
     "metadata": {},
     "output_type": "execute_result"
    }
   ],
   "source": [
    "abnormalities"
   ]
  },
  {
   "cell_type": "code",
   "execution_count": 6,
   "metadata": {},
   "outputs": [],
   "source": [
    "labels = [\n",
    "    'cardiomegaly',\n",
    "    'pleural_effusion',\n",
    "    \"pneumonia\",\n",
    "    'pneumothorax',\n",
    "    'atelectasis'\n",
    "]\n",
    "\n",
    "label_location = [i for i in list(df.columns)[1:] if i.split(\"*\")[0] in labels]"
   ]
  },
  {
   "cell_type": "code",
   "execution_count": 7,
   "metadata": {},
   "outputs": [],
   "source": [
    "label_list = list()\n",
    "\n",
    "for i in range(len(df)):\n",
    "\n",
    "    key_values = df.loc[i][df.loc[i]==1]\n",
    "    valid = False\n",
    "\n",
    "    for key in key_values.keys():\n",
    "        if key in label_location:\n",
    "            valid = True\n",
    "    \n",
    "    if valid:\n",
    "        label_list.append(key_values)"
   ]
  },
  {
   "cell_type": "code",
   "execution_count": 8,
   "metadata": {},
   "outputs": [
    {
     "data": {
      "text/plain": [
       "1694"
      ]
     },
     "execution_count": 8,
     "metadata": {},
     "output_type": "execute_result"
    }
   ],
   "source": [
    "len(label_list)"
   ]
  },
  {
   "cell_type": "code",
   "execution_count": 9,
   "metadata": {},
   "outputs": [
    {
     "name": "stdout",
     "output_type": "stream",
     "text": [
      "{'cardiomegaly': 394, 'pleural_effusion': 727, 'pneumonia': 196, 'pneumothorax': 126, 'atelectasis': 1082}\n"
     ]
    }
   ],
   "source": [
    "label_counts = {\n",
    "    'cardiomegaly':0,\n",
    "    'pleural_effusion':0,\n",
    "    \"pneumonia\":0,\n",
    "    'pneumothorax':0,\n",
    "    'atelectasis':0\n",
    "}\n",
    "\n",
    "for i in range(len(label_list)):\n",
    "    key_labels = list(set([i.split(\"*\")[0] for i in label_list[i].keys()]))\n",
    "    for label in labels:\n",
    "        if label in key_labels:\n",
    "            label_counts[label] += 1\n",
    "\n",
    "print(label_counts)"
   ]
  },
  {
   "cell_type": "code",
   "execution_count": 13,
   "metadata": {},
   "outputs": [
    {
     "data": {
      "text/plain": [
       "3"
      ]
     },
     "execution_count": 13,
     "metadata": {},
     "output_type": "execute_result"
    }
   ],
   "source": [
    "label_list[1]"
   ]
  },
  {
   "cell_type": "code",
   "execution_count": null,
   "metadata": {},
   "outputs": [],
   "source": [
    "label"
   ]
  }
 ],
 "metadata": {
  "kernelspec": {
   "display_name": "Python 3",
   "language": "python",
   "name": "python3"
  },
  "language_info": {
   "codemirror_mode": {
    "name": "ipython",
    "version": 3
   },
   "file_extension": ".py",
   "mimetype": "text/x-python",
   "name": "python",
   "nbconvert_exporter": "python",
   "pygments_lexer": "ipython3",
   "version": "3.9.10"
  }
 },
 "nbformat": 4,
 "nbformat_minor": 2
}
