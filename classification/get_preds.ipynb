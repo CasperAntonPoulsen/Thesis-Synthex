{
 "cells": [
  {
   "cell_type": "code",
   "execution_count": 1,
   "metadata": {},
   "outputs": [],
   "source": [
    "import pandas as pd\n",
    "import os\n",
    "import numpy as np\n",
    "os.environ[\"KERAS_BACKEND\"] = \"jax\" \n",
    "import keras"
   ]
  },
  {
   "cell_type": "code",
   "execution_count": 3,
   "metadata": {},
   "outputs": [],
   "source": [
    "model_dir = \"/dtu/p1/johlau/Thesis-Synthex/models/\"\n",
    "models = os.listdir(model_dir)\n",
    "\n",
    "model_dict = {\n",
    "    \"baseline\": [i for i in models if i.startswith(\"baseline\") and i.endswith(\".keras\")],\n",
    "    \"drr-center\": [i for i in models if i.startswith(\"drr-center\") and i.endswith(\".keras\")],\n",
    "    \"drr-2\": [i for i in models if i.startswith(\"drr-2\") and i.endswith(\".keras\")],\n",
    "    \"drr-5\": [i for i in models if i.startswith(\"drr-5\") and i.endswith(\".keras\")],\n",
    "    \"drr-10\": [i for i in models if i.startswith(\"drr-10\") and i.endswith(\".keras\")],\n",
    "}"
   ]
  },
  {
   "cell_type": "code",
   "execution_count": 4,
   "metadata": {},
   "outputs": [
    {
     "data": {
      "text/plain": [
       "['drr-10_epochs_30_split_0.keras',\n",
       " 'drr-10_epochs_30_split_1.keras',\n",
       " 'drr-10_epochs_30_split_2.keras',\n",
       " 'drr-10_epochs_30_split_3.keras',\n",
       " 'drr-10_epochs_30_split_4.keras']"
      ]
     },
     "execution_count": 4,
     "metadata": {},
     "output_type": "execute_result"
    }
   ],
   "source": [
    "model_dict[\"drr-10\"]"
   ]
  },
  {
   "cell_type": "code",
   "execution_count": 3,
   "metadata": {},
   "outputs": [],
   "source": [
    "data_dir = \"/dtu/p1/johlau/Thesis-Synthex/data/\""
   ]
  },
  {
   "cell_type": "code",
   "execution_count": 4,
   "metadata": {},
   "outputs": [],
   "source": [
    "padchest_test = pd.read_csv(data_dir+ \"padchest_dev.csv\")\n",
    "chexpert = pd.read_csv(data_dir+ \"chexpert.csv\")\n",
    "chexpert[\"image_path\"] = chexpert[\"patient_id\"] + \"-\" + chexpert[\"img_path\"].apply(lambda x : x.replace(\"/\", \"-\"))\n",
    "\n",
    "chexpert_files = os.listdir(\"/dtu/p1/johlau/Thesis-Synthex/data/chexpert-cropped\")\n",
    "chexpert_files_df = pd.DataFrame({\n",
    "    \"image_path\":chexpert_files\n",
    "})\n",
    "\n",
    "chexpert_test = chexpert.merge(chexpert_files_df, how=\"inner\", on=\"image_path\").sample(frac=0.3, random_state=1).reset_index()\n",
    "\n",
    "chexpert_test = chexpert_test.rename(columns={\n",
    "    \"Pleural Effusion\":\"Effusion\"\n",
    "})\n"
   ]
  },
  {
   "cell_type": "code",
   "execution_count": 5,
   "metadata": {},
   "outputs": [],
   "source": [
    "chexpert_test.to_csv(data_dir + \"chexpert_test.csv\")"
   ]
  },
  {
   "cell_type": "code",
   "execution_count": 7,
   "metadata": {},
   "outputs": [],
   "source": [
    "# Function for creating the n-hot encoding\n",
    "def get_n_hot_encoding(df, labels_to_encode):\n",
    "    enc = np.zeros((len(df), len(labels_to_encode)))\n",
    "    for idx, row in df.iterrows():\n",
    "        for ldx, l in enumerate(labels_to_encode):\n",
    "            if row[l] == 1:\n",
    "                enc[idx][ldx] = 1\n",
    "    return enc"
   ]
  },
  {
   "cell_type": "code",
   "execution_count": 8,
   "metadata": {},
   "outputs": [],
   "source": [
    "labels_to_encode = ['Effusion', 'Pneumothorax', 'Atelectasis', 'Cardiomegaly', 'Pneumonia']"
   ]
  },
  {
   "cell_type": "code",
   "execution_count": 9,
   "metadata": {},
   "outputs": [],
   "source": [
    "chexpert_labels = get_n_hot_encoding(chexpert_test, labels_to_encode)"
   ]
  },
  {
   "cell_type": "code",
   "execution_count": null,
   "metadata": {},
   "outputs": [],
   "source": [
    "x_test = np.array([keras.utils.img_to_array(keras.utils.load_img(data_dir + \"chexpert-cropped/\" + i)) for i in tqdm(chexpert_test[\"image_path\"])])"
   ]
  }
 ],
 "metadata": {
  "kernelspec": {
   "display_name": ".venv",
   "language": "python",
   "name": "python3"
  },
  "language_info": {
   "codemirror_mode": {
    "name": "ipython",
    "version": 3
   },
   "file_extension": ".py",
   "mimetype": "text/x-python",
   "name": "python",
   "nbconvert_exporter": "python",
   "pygments_lexer": "ipython3",
   "version": "3.9.10"
  }
 },
 "nbformat": 4,
 "nbformat_minor": 2
}
