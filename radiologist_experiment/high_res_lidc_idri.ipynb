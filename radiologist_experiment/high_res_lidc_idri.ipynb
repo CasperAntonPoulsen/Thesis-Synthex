{
 "cells": [
  {
   "cell_type": "code",
   "execution_count": 3,
   "metadata": {},
   "outputs": [],
   "source": [
    "import pandas as pd\n",
    "import os"
   ]
  },
  {
   "cell_type": "code",
   "execution_count": 4,
   "metadata": {},
   "outputs": [],
   "source": []
  },
  {
   "cell_type": "code",
   "execution_count": 5,
   "metadata": {},
   "outputs": [],
   "source": [
    "base_path = \"/dtu/p1/johlau/Thesis-Synthex/\"\n",
    "data_path = \"data/LIDC-IDRI-raw/\"\n",
    "\n",
    "\n",
    "files = os.listdir(base_path + data_path)\n",
    "df_metadata = pd.read_csv(base_path + data_path + [file for file in files if file.endswith(\".csv\")][-1])\n",
    "\n",
    "patients = list(df_metadata[df_metadata[\"Modality\"] == \"CT\"].sort_values(by=\"ImageCount\",ascending=False).iloc[:20][\"PatientID\"])"
   ]
  },
  {
   "cell_type": "code",
   "execution_count": 12,
   "metadata": {},
   "outputs": [
    {
     "data": {
      "text/plain": [
       "1161    LIDC-IDRI-0648\n",
       "130     LIDC-IDRI-0066\n",
       "823     LIDC-IDRI-0621\n",
       "657     LIDC-IDRI-0441\n",
       "654     LIDC-IDRI-0438\n",
       "1081    LIDC-IDRI-0744\n",
       "808     LIDC-IDRI-0606\n",
       "736     LIDC-IDRI-0529\n",
       "1148    LIDC-IDRI-0665\n",
       "702     LIDC-IDRI-0490\n",
       "1214    LIDC-IDRI-0140\n",
       "816     LIDC-IDRI-0614\n",
       "1159    LIDC-IDRI-0651\n",
       "744     LIDC-IDRI-0537\n",
       "961     LIDC-IDRI-0876\n",
       "534     LIDC-IDRI-0308\n",
       "598     LIDC-IDRI-0376\n",
       "690     LIDC-IDRI-0478\n",
       "1155    LIDC-IDRI-0655\n",
       "676     LIDC-IDRI-0462\n",
       "Name: PatientID, dtype: object"
      ]
     },
     "execution_count": 12,
     "metadata": {},
     "output_type": "execute_result"
    }
   ],
   "source": []
  }
 ],
 "metadata": {
  "kernelspec": {
   "display_name": ".venv",
   "language": "python",
   "name": "python3"
  },
  "language_info": {
   "codemirror_mode": {
    "name": "ipython",
    "version": 3
   },
   "file_extension": ".py",
   "mimetype": "text/x-python",
   "name": "python",
   "nbconvert_exporter": "python",
   "pygments_lexer": "ipython3",
   "version": "3.9.10"
  }
 },
 "nbformat": 4,
 "nbformat_minor": 2
}
